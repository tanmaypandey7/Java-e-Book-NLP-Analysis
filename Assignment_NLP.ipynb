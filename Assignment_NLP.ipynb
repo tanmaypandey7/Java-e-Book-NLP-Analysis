{
  "nbformat": 4,
  "nbformat_minor": 0,
  "metadata": {
    "colab": {
      "name": "Assignment-NLP.ipynb",
      "version": "0.3.2",
      "provenance": [],
      "include_colab_link": true
    },
    "kernelspec": {
      "name": "python3",
      "display_name": "Python 3"
    }
  },
  "cells": [
    {
      "cell_type": "markdown",
      "metadata": {
        "id": "view-in-github",
        "colab_type": "text"
      },
      "source": [
        "[View in Colaboratory](https://colab.research.google.com/github/tanmaypandey7/NLP-Work-PDF/blob/master/Assignment_NLP.ipynb)"
      ]
    },
    {
      "metadata": {
        "id": "Mbedq4pypF_V",
        "colab_type": "code",
        "colab": {
          "base_uri": "https://localhost:8080/",
          "height": 119
        },
        "outputId": "61793594-1021-415d-e805-d39586c7dba9"
      },
      "cell_type": "code",
      "source": [
        "# Uncomment the lines to install the libraries\n",
        "!pip install PyPDF2\n",
        "!pip install textblob\n",
        "!pip install pdfminer2"
      ],
      "execution_count": 134,
      "outputs": [
        {
          "output_type": "stream",
          "text": [
            "Requirement already satisfied: PyPDF2 in /usr/local/lib/python3.6/dist-packages (1.26.0)\n",
            "Requirement already satisfied: textblob in /usr/local/lib/python3.6/dist-packages (0.15.1)\n",
            "Requirement already satisfied: nltk>=3.1 in /usr/local/lib/python3.6/dist-packages (from textblob) (3.2.5)\n",
            "Requirement already satisfied: six in /usr/local/lib/python3.6/dist-packages (from nltk>=3.1->textblob) (1.11.0)\n",
            "Requirement already satisfied: pdfminer2 in /usr/local/lib/python3.6/dist-packages (20151206)\n",
            "Requirement already satisfied: six in /usr/local/lib/python3.6/dist-packages (from pdfminer2) (1.11.0)\n"
          ],
          "name": "stdout"
        }
      ]
    },
    {
      "metadata": {
        "id": "bjzS19dmpQDZ",
        "colab_type": "code",
        "colab": {}
      },
      "cell_type": "code",
      "source": [
        "import PyPDF2\n",
        "from nltk.corpus import stopwords\n",
        "from nltk.tokenize import word_tokenize\n",
        "import nltk\n",
        "import re"
      ],
      "execution_count": 0,
      "outputs": []
    },
    {
      "metadata": {
        "id": "wpq_DoZjpbFX",
        "colab_type": "code",
        "colab": {
          "base_uri": "https://localhost:8080/",
          "height": 89
        },
        "outputId": "2eacedaf-9ca0-43ed-9042-dd2743625cf9"
      },
      "cell_type": "code",
      "source": [
        "#Upload the required pdf files\n",
        "from google.colab import files\n",
        "\n",
        "uploaded = files.upload()\n",
        "\n",
        "for fn in uploaded.keys():\n",
        "  print('User uploaded file \"{name}\" with length {length} bytes'.format(name=fn, length=len(uploaded[fn])))"
      ],
      "execution_count": 6,
      "outputs": [
        {
          "output_type": "display_data",
          "data": {
            "text/html": [
              "\n",
              "     <input type=\"file\" id=\"files-8f3adf62-5802-49df-b530-19c132c0d385\" name=\"files[]\" multiple disabled />\n",
              "     <output id=\"result-8f3adf62-5802-49df-b530-19c132c0d385\">\n",
              "      Upload widget is only available when the cell has been executed in the\n",
              "      current browser session. Please rerun this cell to enable.\n",
              "      </output>\n",
              "      <script src=\"/nbextensions/google.colab/files.js\"></script> "
            ],
            "text/plain": [
              "<IPython.core.display.HTML object>"
            ]
          },
          "metadata": {
            "tags": []
          }
        },
        {
          "output_type": "stream",
          "text": [
            "Saving JavaBasics-notes.pdf to JavaBasics-notes.pdf\n",
            "User uploaded file \"JavaBasics-notes.pdf\" with length 321459 bytes\n"
          ],
          "name": "stdout"
        }
      ]
    },
    {
      "metadata": {
        "id": "RM7yqxEAtwZI",
        "colab_type": "code",
        "colab": {}
      },
      "cell_type": "code",
      "source": [
        "from pdfminer.pdfinterp import PDFResourceManager, PDFPageInterpreter\n",
        "from pdfminer.converter import TextConverter\n",
        "from pdfminer.layout import LAParams\n",
        "from pdfminer.pdfpage import PDFPage\n",
        "from io import StringIO\n",
        "\n",
        "rsrcmgr = PDFResourceManager()\n",
        "retstr = StringIO()\n",
        "codec = 'utf-8'\n",
        "laparams = LAParams()\n",
        "device = TextConverter(rsrcmgr, retstr, codec=codec, laparams=laparams)\n",
        "fp = open('JavaBasics-notes.pdf', 'rb')\n",
        "interpreter = PDFPageInterpreter(rsrcmgr, device)\n",
        "password = \"\"\n",
        "maxpages = 0\n",
        "caching = True\n",
        "pagenos=set()\n",
        "\n",
        "for page in PDFPage.get_pages(fp, pagenos, maxpages=maxpages, password=password,caching=caching, check_extractable=True):\n",
        "  interpreter.process_page(page)\n",
        "\n",
        "text = retstr.getvalue()\n",
        "\n",
        "fp.close()\n",
        "device.close()\n",
        "retstr.close()\n",
        "    "
      ],
      "execution_count": 0,
      "outputs": []
    },
    {
      "metadata": {
        "id": "O_wVJkBzuRCD",
        "colab_type": "code",
        "colab": {
          "base_uri": "https://localhost:8080/",
          "height": 54
        },
        "outputId": "6aaa9e68-5056-4002-f604-c3846fc61d4a"
      },
      "cell_type": "code",
      "source": [
        "text"
      ],
      "execution_count": 137,
      "outputs": [
        {
          "output_type": "execute_result",
          "data": {
            "text/plain": [
              "'Java Basics\\n\\nJava Basics\\n\\nTopics in this section include:\\n\\n•  What makes Java programs portable, secure, and robust\\n\\n•  The structure of Java applets and applications\\n\\n•  How Java applications are executed\\n\\n•  How applets are invoked and executed\\n\\n•  The Java Language, Part I\\n\\n•  Comments\\n\\n•  Declarations\\n\\n•  Expressions\\n\\n•  Statements\\n\\n•  Garbage collection\\n\\n•  Java Semantics\\n\\nPortability\\n\\nJava programs are portable across operating systems and hardware environments.\\nPortability is to your advantage because:\\n\\n•  You need only one version of your software to serve a broad market.\\n\\n•  The Internet, in effect, becomes one giant, dynamic library.\\n\\n•  You are no longer limited by your particular computer platform.\\n\\nThree features make Java String programs portable:\\n\\n1.  The language. The Java language is completely specified; all data-type sizes and\\n\\nformats are defined as part of the language. By contrast, C/C++ leaves these\\n\"details\" up to the compiler implementor, and many C/C++ programs therefore\\n\\n© 1996-2003 jGuru.com. All Rights Reserved.\\n\\nJava Basics -1\\n\\n\\x0cJava Basics\\n\\nare not portable.\\n\\n2.  The library. The Java class library is available on any machine with a Java\\n\\nruntime system, because a portable program is of no use if you cannot use the\\nsame class library on every platform. Window-manager function calls in a Mac\\napplication written in C/C++, for example, do not port well to a PC.\\n\\n3.  The byte code. The Java runtime system does not compile your source code\\ndirectly into machine language, an inflexible and nonportable representation of\\nyour program. Instead, Java programs are translated into machine-independent\\nbyte code. The byte code is easily interpreted and therefore can be executed on\\nany platform having a Java runtime system. (The latest versions of the Netscape\\nNavigator browser, for example, can run applets on virtually any platform).\\n\\nSecurity\\n\\nThe Java language is secure in that it is very difficult to write incorrect code or\\nviruses that can corrupt/steal your data, or harm hardware such as hard disks.\\nThere are two main lines of defense:\\n\\n• \\n\\nInterpreter level:\\n\\n•  No pointer arithmetic\\n\\n•  Garbage collection\\n\\n•  Array bounds checking\\n\\n•  No illegal data conversions\\n\\n•  Browser level (applies to applets only):\\n\\n•  No local file I/O\\n\\n•  Sockets back to host only\\n\\n•  No calls to native methods\\n\\nRobustness\\n\\nThe Java language is robust. It has several features designed to avoid crashes\\nduring program execution, including:\\n\\n•  No pointer arithmetic\\n\\nJava Basics -2\\n\\n© 1996-2003 jGuru.com. All Rights Reserved.\\n\\n\\x0cJava Basics\\n\\n•  Garbage collection--no bad addresses\\n\\n•  Array and string bounds checking\\n\\n•  No jumping to bad method addresses\\n\\n• \\n\\nInterfaces and exceptions\\n\\nJava Program Structure\\n\\nA file containing Java source code is considered a compilation unit. Such a\\ncompilation unit contains a set of classes and, optionally, a package definition to\\ngroup related classes together. Classes contain data and method members that\\nspecify the state and behavior of the objects in your program.\\n\\nJava programs come in two flavors:\\n\\n•  Standalone applications that have no initial context such as a pre-existing main\\n\\nwindow\\n\\n•  Applets for WWW programming\\n\\nThe major differences between applications and applets are:\\n\\n•  Applets are not allowed to use file I/O and sockets (other than to the host\\n\\nplatform). Applications do not have these restrictions.\\n\\n•  An applet must be a subclass of the Java Applet class. Aplications do not need to\\n\\nsubclass any particular class.\\n\\n•  Unlike applets, applications can have menus.\\n\\n•  Unlike applications, applets need to respond to predefined lifecycle messages\\n\\nfrom the WWW browser in which they\\'re running.\\n\\nJava Program Execution\\n\\nThe Java byte-code compiler translates a Java source file into machine-\\nindependent byte code. The byte code for each publicly visible class is placed in a\\nseparate file, so that the Java runtime system can easily find it. If your program\\ninstantiates an object of class A, for example, the class loader searches the\\ndirectories listed in your CLASSPATH environment variable for a file called A.class\\nthat contains the class definition and byte code for class A.\\n\\nThere is no link phase for Java programs; all linking is done dynamically at\\n\\n© 1996-2003 jGuru.com. All Rights Reserved.\\n\\nJava Basics -3\\n\\n\\x0cJava Basics\\n\\nruntime.\\n\\nThe following diagram shows an example of the Java compilation and execution\\nsequence for a source file named A.java containing public class A and non-public\\nclass B:\\n\\nJava programs are, in effect, distributed applications. You may think of them as a\\ncollection of DLLs (dynamically loadable libraries) that are linked on demand at\\nruntime. When you write your own Java applications, you will often integrate\\n\\nyour program with already-existing portions of code that reside on other\\n\\nmachines.\\n\\nA Simple Application\\n\\nConsider the following trivial application that prints \"hi there\" to standard\\noutput:\\n\\nJava Basics -4\\n\\n© 1996-2003 jGuru.com. All Rights Reserved.\\n\\n\\x0cJava Basics\\n\\npublic class TrivialApplication {\\n  // args[0] is first argument\\n  // args[1] the second\\n  public static void main(String args[]) {\\n    System.out.println(\"hi there\");\\n  }\\n}\\nThe command java TrivialApplication tells the Java runtime system to begin\\nwith the class file TrivialApplication.class and to look in that file for a\\nmethod with the signature:\\n\\npublic static void main(String args[]);\\nThe main() method will always reside in one of your class files. The Java\\nlanguage does not allow methods outside of class definitions. The class, in effect,\\ncreates scoped symbol StartingClassName.main for your main() method.\\n\\nApplet  Execution\\n\\nAn applet is a Java program that runs within a Java-compatible WWW browser or\\nin an appletviewer. To execute your applet, the browser:\\n\\n•  Creates an instance of your applet\\n\\n•  Sends messages to your applet to automatically invoke predefined lifecycle\\n\\nmethods\\n\\nThe predefined methods automatically invoked by the runtime system are:\\n\\n•  init(). This method takes the place of the Applet constructor and is only called\\nonce during applet creation. Instance variables should be initialized in this method.\\nGUI components such as buttons and scrollbars should be added to the GUI in\\nthis method.\\n\\n•  start(). This method is called once after init() and whenever your applet is\\nrevisited by your browser, or when you deiconify your browser. This method\\nshould be used to start animations and other threads.\\n\\n•  paint(Graphics g). This method is called when the applet drawing area needs\\nto be redrawn. Anything not drawn by contained components must be drawn in\\nthis method. Bitmaps, for example, are drawn here, but buttons are not because\\nthey handle their own painting.\\n\\n•  stop(). This method is called when you leave an applet or when you iconify\\n\\nyour browser. The method should be used to suspend animations and other\\n\\n© 1996-2003 jGuru.com. All Rights Reserved.\\n\\nJava Basics -5\\n\\n\\x0cJava Basics\\n\\nthreads so they do not burden system resources unnecessarily. It is guaranteed to\\nbe called before destroy().\\n\\n•  destroy(). This method is called when an applet terminates, for example, when\\n\\nquitting the browser. Final clean-up operations such as freeing up system\\nresources with dispose() should be done here. The dispose() method of Frame\\nremoves the menu bar. Therefore, do not forget to call super.dispose() if you\\noverride the default behavior.\\n\\nThe basic structure of an applet that uses each of these predefined methods is:\\n\\nimport java.applet.Applet;\\n// include all AWT class definitions\\nimport java.awt.*;\\n\\npublic class AppletTemplate extends Applet {\\n  public void init() {\\n    // create GUI, initialize applet\\n  }\\n  public void start() {\\n    // start threads, animations etc...\\n  }\\n  public void paint(Graphics g) {\\n    // draw things in g\\n  }\\n  public void stop() {\\n    // suspend threads, stop animations etc...\\n  }\\n  public void destroy() {\\n    // free up system resources, stop threads\\n  }\\n}\\nAll you have to do is fill in the appropriate methods to bring your applet to life. If\\nyou don\\'t need to use one or more of these predefined methods, simply leave them\\nout of your applet. The applet will ignore messages from the browser attempting\\nto invoke any of these methods that you don\\'t use.\\n\\nA Simple Applet\\n\\nThe following complete applet displays \"Hello, World Wide Web!\" in your\\nbrowser window:\\n\\nimport java.applet.Applet;\\nimport java.awt.Graphics;\\n\\npublic class TrivialApplet extends Applet {\\n  public void paint(Graphics g) {\\n    // display a string at 20,20\\n\\nJava Basics -6\\n\\n© 1996-2003 jGuru.com. All Rights Reserved.\\n\\n\\x0cJava Basics\\n\\n    // where 0,0 is the upper-left corner\\n    g.drawString(\"Hello, World Wide Web!\", 20, 20);\\n  }\\n}\\nAn appletviewer may be used instead of a WWW browser to test applets. For\\nexample, the output of TrivialApplet on an appletviewer looks like:\\n\\nHTML/Applet  Interface\\n\\nThe HTML applet tag is similar to the HTML img tag, and has the form:\\n\\n<applet code=AppletName.class width=w height=h>\\n[parameters]\\n</applet>\\nwhere the optional parameters are a list of parameter definitions of the form:\\n\\n<param name=n value=v>\\nAn example tag with parameter definitions is:\\n\\n<applet code=AppletName.class width=300 height=200>\\n<param name=p1 value=34>\\n<param name=p2 value=\"test\">\\n</applet>\\nwhere p1 and p2 are user-defined parameters.\\n\\nThe code, width, and height parameters are mandatory. The parameters\\ncodebase, alt, archives, align, vspace, and hspace are optional within the\\n<applet> tag itself. Your applet can access any of these parameters by calling:\\n\\nApplet.getParameter(\"p\")\\nwhich returns the String value of the parameter. For example, the applet:\\n\\nimport java.applet.Applet;\\n\\npublic class ParamTest extends Applet {\\n  public void init() {\\n    System.out.println(\"width is \" + getParameter(\"width\"));\\n    System.out.println(\"p1 is \"    + getParameter(\"p1\"));\\n\\n© 1996-2003 jGuru.com. All Rights Reserved.\\n\\nJava Basics -7\\n\\n\\x0cJava Basics\\n\\n    System.out.println(\"p2 is \"    + getParameter(\"p2\"));\\n  }\\n}\\nprints the following to standard output:\\n\\nwidth is 300\\np1 is 34\\np2 is test\\n\\nComments\\n\\nJava comments are the same as C++ comments, i.e.,\\n\\n/* C-style block comments */\\nwhere all text between the opening /* and closing */ is ignored, and\\n\\n// C++ style single-line comments\\nwhere all text from the opening // to the end of the line is ignored.\\n\\nNote that these two comments can make a very useful combination. C-style\\ncomments (/* ... */) cannot be nested, but can contain C++ style comments.\\nThis leads to the interesting observation that if you always use C++-style\\ncomments (// ...), you can easily comment out a section of code by surrounding\\nit with C-style comments. So try to use C++ style comments for your \"normal\"\\ncode commentary, and reserve C-style comments for commenting out sections of\\ncode.\\n\\nThe Java language also has a document comment:\\n\\n/** document comment */\\nThese comments are processed by the javadoc program to generate\\ndocumentation from your source code. For example,\\n\\n/** This class does blah blah blah */\\nclass Blah {\\n  /** This method does nothing\\n  /**\\n   * This is a multiple line comment.\\n   * The leading * is not placed in documentation.\\n   */\\n  public void nothing() {;}\\n}\\n\\nJava Basics -8\\n\\n© 1996-2003 jGuru.com. All Rights Reserved.\\n\\n\\x0cJava Basics\\n\\nDeclarations\\n\\nA Java variable may refer to an object, an array, or an item of primitive type.\\nVariables are defined using the following simple syntax:\\n\\nTypeName variableName;\\nFor example,\\n\\nint a;     // defines an integer\\nint[] b;   // defines a reference to array of ints\\nVector v;  // reference to a Vector object\\n\\nPrimitive Types\\n\\nThe Java language has the following primitive types:\\n\\nPrimitive Types\\n\\nPrimitive Type\\n\\nDescription\\n\\nboolean\\n\\ntrue/false\\n\\nbyte\\n\\nchar\\n\\nshort\\n\\nint\\n\\nlong\\n\\nfloat\\n\\ndouble\\n\\n8 bits\\n\\n16 bits (UNICODE)\\n\\n16 bits\\n\\n32 bits\\n\\n64 bits\\n\\n32 bits IEEE 754-1985\\n\\n64 bits IEEE 754-1985\\n\\nJava int types may not be used as boolean types and are always signed.\\n\\nObjects\\n\\nA simple C++ object or C struct definition such as \"Button b;\" allocates\\nmemory on the stack for a Button object and makes b refer to it. By contrast, you\\nmust specifically instantiate Java objects with the new operator. For example,\\n\\n© 1996-2003 jGuru.com. All Rights Reserved.\\n\\nJava Basics -9\\n\\n\\x0cJava Basics\\n\\n// Java code\\n\\nvoid foo() {\\n  // define a reference to a Button; init to null\\n  Button b;\\n  // allocate space for a Button, b points to it\\n  b = new Button(\"OK\");\\n  int i = 2;\\n}\\n\\nAs the accompanying figure shows, this code places a reference b to the Button\\nobject on the stack and allocates memory for the new object on the heap.\\n\\nThe equivalent C++ and C statements that would allocate memory on the heap\\nwould be:\\n\\n// C++ code\\nButton *b = NULL;      // declare a new Button pointer\\nb = new Button(\"OK\");  // point it to a new Button\\n\\n/* C code */\\nButton *b = NULL;              /* declare a new Button pointer */\\nb = calloc(1, sizeof(Button)); /* allocate space for a Button */\\ninit(b, \"OK\");                 /* something like this to init b */\\n\\nAll Java objects reside on the heap; there are no objects stored on the stack.\\nStoring objects on the heap does not cause potential memory leakage problems\\nbecause of garbage collection.\\n\\nEach Java primitive type has an equivalent object type, e.g., Integer, Byte,\\nFloat, Double. These primitive types are provided in addition to object types\\npurely for efficiency. An int is much more efficient than an Integer.\\n\\nJava Basics -10\\n\\n© 1996-2003 jGuru.com. All Rights Reserved.\\n\\n\\x0cStrings\\n\\nJava Basics\\n\\nJava string literals look the same as those in C/C++, but Java strings are real\\nobjects, not pointers to memory. Java strings may or may not be null-terminated.\\nEvery string literal such as\\n\\n\"a string literal\"\\nis interpreted by the Java compiler as\\n\\nnew String(\"a string literal\")\\nJava strings are constant in length and content. For variable-length strings, use\\nStringBuffer objects.\\n\\nStrings may be concatenated by using the plus operator:\\n\\nString s = \"one\" + \"two\"; // s == \"onetwo\"\\nYou may concatenate any object to a string. You use the toString() method to\\nconvert objects to a String, and primitive types are converted by the compiler.\\nFor example,\\n\\nString s = \"1+1=\" + 2; // s == \"1+1=2\"\\nThe length of a string may be obtained with String method length(); e.g.,\\n\"abc\".length() has the value 3.\\n\\nTo convert an int to a String, use:\\n\\nString s = String.valueOf(4);\\nTo convert a String to an int, use:\\n\\nint a = Integer.parseInt(\"4\");\\n\\nArray Objects\\n\\nIn C and C++, arrays are pointers to data in memory. Java arrays are objects that\\nknow the number and type of their elements. The first element is index 0, as in\\nC/C++.\\n\\nGeneric Array Object\\n\\n# elements\\n\\n© 1996-2003 jGuru.com. All Rights Reserved.\\n\\nJava Basics -11\\n\\n\\x0cJava Basics\\n\\nelement type\\n\\nelement 0\\n\\nelement 1\\n\\n...\\n\\nelement n-1\\n\\nThe syntax for creating an array object is:\\n\\nTypeName[] variableName;\\nThis declaration defines the array object--it does not allocate memory for the array\\nobject nor does it allocate the elements of the array In addition, you may not\\nspecify a size within the square brackets.\\n\\nTo allocate an array, use the new operator:\\n\\nint[] a = new int[5];  // Java code: make array of 5 ints\\n\\nnew int[5]\\n\\n5\\n\\nint\\n\\n0\\n\\n0\\n\\n0\\n\\n0\\n\\n0\\n\\nIn C or C++, by contrast, you would write either\\n\\n/* C/C++ code: make array of 5 ints on the stack */\\nint a[5];\\nor\\n\\n/* C/C++ code: make array of 5 ints on the heap */\\n\\nJava Basics -12\\n\\n© 1996-2003 jGuru.com. All Rights Reserved.\\n\\n\\x0cJava Basics\\n\\nint *a = new int[5];\\nAn array of Java objects such as\\n\\n// Java code: make array of 5 references to Buttons\\nButton[] a = new Button[5];\\ncreates the array object itself, but not the elements:\\n\\nnew Button[5]\\n\\n5\\n\\nButton\\n\\nnull pointer\\n\\nnull pointer\\n\\nnull pointer\\n\\nnull pointer\\n\\nnull pointer\\n\\nYou must use the new operator to create the elements:\\n\\na[0] = new Button(\"OK\");\\na[3] = new Button(\"QUIT\");\\nIn C++, to make an array of pointers to objects you would write:\\n\\n// C++: make an array of 5 pointers to Buttons\\nButton **a = new Button *[5]; // Create the array\\na[0] = new Button(\"OK\");      // create two new buttons\\na[3] = new Button(\"QUIT\");\\nIn C, code for the same task would look like:\\n\\n/* C: make an array of 5 pointers to structs */\\n/* Allocate the array */\\nButton **a = calloc(5, sizeof(Button *));\\n/* Allocate one button */\\na[0] = calloc(1, sizeof(Button));\\n/* Init the first button */\\nsetTitle(a[0], \"OK\");\\n/* Allocate another button */\\na[3] = calloc(1, sizeof(Button));\\n/* Init the second button */\\n\\n© 1996-2003 jGuru.com. All Rights Reserved.\\n\\nJava Basics -13\\n\\n\\x0cJava Basics\\n\\nsetTitle(a[3], \"QUIT\");\\nMulti-dimensional Java arrays are created by making arrays of arrays, just as in\\nC/C++. For example,\\n\\nT[][] t = new T[10][5];\\nmakes a five-element array of ten arrays of references to objects of type T. This\\nstatement does not allocate memory for any T objects.\\n\\nAccessing an undefined array element causes a runtime exception called\\nArrayIndexOutOfBoundsException.\\n\\nAccessing a defined array element that has not yet been assigned to an object\\nresults in a runtime NullPointerException.\\n\\nInitializers\\n\\nVariables may be initialized as follows:\\n\\n•  Primitive types\\n\\nint i = 3;\\nboolean g = true;\\n\\n•  Objects\\n\\nButton b = null;\\nEmployee e = new Employee();\\n\\n•  Arrays\\n\\nint[] i = {1, 2, 3, 4};\\nor in Java 1.1\\n\\nint[] i;\\ni = new int[] {1, 2, 3, 4};\\nConstants\\n\\nVariables modified by the static final keywords are constants (equivalent to\\nthe const keyword in C++; no equivalent in C). For example,\\n\\n// same as \"const int version=1;\" in C++\\nstatic final int version = 1;\\n\\nstatic final String Owner = \"Terence\";\\n\\nJava Basics -14\\n\\n© 1996-2003 jGuru.com. All Rights Reserved.\\n\\n\\x0cExpressions\\n\\nMost Java expressions are similar to those in C/C++.\\n\\nConstant Expressions\\n\\nJava Basics\\n\\nItem\\n\\nExamples or Description\\n\\nid\\n\\nqualified-id\\n\\ni, nameList\\n\\nInteger.MAX_VALUE, obj.member,\\nnpackage.class, package.obj\\n\\nid[e][f]...[g]\\n\\na[i], b[3][4]\\n\\nString literal\\n\\nchar literal\\n\\n\"Jim\", delimited by \"\"\\n\\n\\'a\\', \\'\\\\t\\', delimited by \\'\\'\\n\\nUnicode character constant\\n\\n\\\\u00ae\\n\\nboolean literal\\n\\nint constant\\n\\nfloat constant\\n\\ntrue, false (not an int)\\n\\n4\\n\\n3.14f, 2.7e6F, f or F suffix\\n\\ndouble constant\\n\\n3.14, 2.7e6D, (default) / d or D suffix\\n\\nhexadecimal constant\\n\\noctal constant\\n\\n0x123\\n\\n077\\n\\nnull\\n\\nthis\\n\\nsuper\\n\\nGeneral Expressions\\n\\nthe null object (note lowercase!)\\n\\nthe current object\\n\\nthe superclass view of this object\\n\\nItem\\n\\nExamples or Description\\n\\n© 1996-2003 jGuru.com. All Rights Reserved.\\n\\nJava Basics -15\\n\\n\\x0cJava Basics\\n\\nOperators\\n\\nid\\n\\ni, nameList\\n\\nobj.method(args)\\n\\ninstance method call\\n\\nclass.method(args)\\n\\nclass method call\\n\\n( expr )\\n\\n(3+4)*7\\n\\nnew T(constructor-args)\\n\\ninstantiates a new object or class T\\n\\nnew T[e][f]...[g]\\n\\nallocates an array object\\n\\nThe Java language has added the >>> zero-extend right-shift operator to the set of\\nC++ operators. (C++ operators include instanceof and new, which are not\\npresent in C. Note that sizeof has been removed, as memory allocation is\\nhandled for you.) The operators, in order of highest to lowest priority, are:\\n\\n•  new\\n•  .\\n•  -- ++ + - ~ ! (TypeName)\\n•  * / %\\n•  + -\\n•  << >> >>>\\n•  < > <= >= instanceof\\n•  == !=\\n•  &\\n•  ^\\n•  |\\n•  &&\\n•  ||\\n•  ?:\\n•  = *= /= %= += -= <<= >>= >>>= &= ^= |=\\n\\nNote that the precedence of the new operator and the \\'.\\' operator bind\\n\\nJava Basics -16\\n\\n© 1996-2003 jGuru.com. All Rights Reserved.\\n\\n\\x0cdifferently than in C++. A proper Java statement is:\\n\\nJava Basics\\n\\n// Java code\\nnew T().method();\\nIn C++, you would use:\\n\\n// C++ code\\n\\n(new T)->method();\\n\\nStatements\\n\\nJava statements are similar to those in C/C++ as the following table shows.\\n\\nForms of Common Statements\\n\\nStatement\\n\\nExamples\\n\\nif\\n\\nswitch\\n\\nfor\\n\\nwhile\\n\\nif (boolean-expr) stat1\\nif (boolean-expr) stat1 else stat2\\n\\nswitch (int-expr) {\\ncase int-const-expr : stat1\\ncase int-const-expr : stat2\\ndefault : stat3\\n}\\n\\nfor (int i=0; i<10; i++) stat\\n\\nwhile (boolean-expr) stat\\n\\ndo-while\\n\\ndo { stats } while (boolean-expr)\\n\\nreturn\\n\\nreturn expr;\\n\\nThe Java break and continue statements may have labels. These labels refer to\\nthe specific loop that the break or continue apply to. (Each loop can be\\npreceded by a label.)\\n\\nJava  Semantics\\n\\nWe say that the Java language has \"reference semantics\" and C/C++ have \"copy\\nsemantics.\" This means that Java objects are passed to methods by reference in\\nJava, while objects are passed by value in C/C++.\\n\\nJava primitive types, however, are not treated in the same way as Java objects.\\nPrimitive types are assigned, compared, and passed as arguments using copy\\n\\n© 1996-2003 jGuru.com. All Rights Reserved.\\n\\nJava Basics -17\\n\\n\\x0cJava Basics\\n\\nsemantics, just as in C/C++. For example, i = j for two int variables i and j\\nperforms a 32-bit integer copy.\\n\\nAssignment of Objects\\n\\nAssignment makes two variables refer to the same object. For example,\\n\\nclass Data {\\n  public int data = 0;\\n  public Data(int d) { data = d; }\\n}\\n\\nI       Data a = new Data(1); // a.data is 1\\nI       Data b = new Data(2); // b.data is 2\\nII      b = a;                // b.data and a.data are 1\\nIII     a.data = 3;           // b.data and a.data are 3\\nIV      a = new Data(4);      // b.data is 3, a.data is 4\\n\\nTo copy objects, define and use clone():\\n\\nclass Data implements Cloneable {\\n  public int data = 0;\\n  public Data(int d) { data = d; }\\n  public Object clone() {\\n    Data d = (Data) super.clone();\\n    d.data = data;\\n    return d;\\n  }\\n}\\n\\n...\\n\\nData a = new Data(1); // a.data is 1\\nData b = new Data(2); // b.data is 2\\nb = a.clone();        // b.data and a.data are 1\\na.data = 3;           // b.data is 1, a.data is 3\\n\\nJava Basics -18\\n\\n© 1996-2003 jGuru.com. All Rights Reserved.\\n\\n\\x0cJava Basics\\n\\nNote: The above class definition requires exception handling code. We, however,\\nhave not yet discussed exception handling. For now, pretend that it is not\\nnecessary.\\n\\nMethod Parameters and Return Values\\n\\nArguments and return values for primitive types are passed by value to and from\\nall Java methods because they are implied assignments, as in C/C++. However, all\\nJava objects are passed by reference. For example, the C/C++ code:\\n\\n// C++ code\\n\\nint foo(int j) { return j + 34;}\\nButton *bfoo(Button *b) {\\n  if ( b != NULL ) return b;\\n  else return new Button();\\n}\\nor, in C\\n\\n/* C code */\\n\\nint foo(int j) { return j + 34;}\\nButton *bfoo(Button *b) {\\n  if ( b != NULL ) return b;\\n  else return calloc(sizeof(Button));\\n}\\nwould be written in the Java language:\\n\\n// Java code\\n\\nint foo(int j) { return j + 34;}\\nButton bfoo(Button b) {\\n  if ( b != null ) return b;\\n  else return new Button(\"OK\");\\n}\\n\\nEquality\\n\\nTwo Java primitive types are equal (using the == operator) when they have the\\nsame value (e.g., \"3 == 3\"). However, two object variables are equal if and only if\\nthey refer to the same instantiated object--a \"shallow\" comparison. For example,\\n\\nvoid test() {\\n  Data a = new Data(1);\\n  Data b = new Data(2);\\n  Data c = new Data(1);\\n  // a == b is FALSE\\n  // a == c is FALSE (in C++, this\\'d be TRUE)\\n\\n© 1996-2003 jGuru.com. All Rights Reserved.\\n\\nJava Basics -19\\n\\n\\x0cJava Basics\\n\\n  Data d = a;\\n  Data e = a;\\n  // d == e is TRUE,\\n  // d,e are referring to same object\\n}\\nTo perform a \"deep\" comparison, the convention is to define a method called\\nequals(). You would rewrite Data as:\\n\\nclass Data {\\n  public int data = 0;\\n  public Data(int d) { data = d; }\\n  boolean equals(Data d) {\\n    return data == d.data;\\n  }\\n}\\n\\n...\\n\\nData a = new Data(1);\\nData b = new Data(1);\\n// a.equals(b) is true!!!!\\n\\nNo Pointers!\\n\\nThe Java language does not have pointer types nor address arithmetic. Java\\nvariables are either primitive types or references to objects. To illustrate the\\ndifference between C/C++ and Java semantics, consider the following equivalent\\ncode fragments.\\n\\n// C++ code (C code would be similar)\\n\\nStack *s = new Stack; // point to a new Stack\\ns->push(...);\\n\\n// dereference and access method push()\\nThe equivalent Java code is:\\n\\n// Java code\\n\\n// internally, consider s to be a (Stack *)\\nStack s = new Stack();\\n// dereference s automatically\\ns.push(...);\\n\\nGarbage  Collection\\n\\nAn automatic garbage collector deallocates memory for objects that are no longer\\nneeded by your program, thereby relieving you from the tedious and error-prone\\n\\nJava Basics -20\\n\\n© 1996-2003 jGuru.com. All Rights Reserved.\\n\\n\\x0cJava Basics\\n\\ntask of deallocating your own memory.\\n\\nAs a consequence of automatic garbage collection and lack of pointers, a Java\\nobject is either null or valid--there is no way to refer to an invalid or stale object\\n(one that has been deallocated).\\n\\nTo illustrate the effect of a garbage collector, consider the following C++ function\\nthat allocates 1000 objects on the heap via the new operator (a similar C function\\nwould allocate memory using calloc/malloc):\\n\\n// C++ code\\n\\nvoid f() {\\n  T *t;\\n  for (int i = 1; i <= 1000; i++) {\\n    t = new T; // ack!!!!!\\n  }\\n}\\nEvery time the loop body is executed, a new instance of class T is instantiated, and\\nt is pointed to it. But what happens to the instance that t used to point to? It\\'s\\nstill allocated, but nothing points to it and therefore it\\'s inaccessible. Memory in\\nthis state is referred to as \"leaked\" memory.\\n\\nIn the Java language, memory leaks are not an issue. The following Java method\\ncauses no ill effects:\\n\\n// Java code\\n\\nvoid f() {\\n  T t;\\n  for (int i = 1; i <= 1000; i++) {\\n    t = new T();\\n  }\\n}\\nIn Java, each time t is assigned a new reference, the old reference is now available\\nfor garbage collection. Note that it isn\\'t immediately freed; it remains allocated\\nuntil the garbage collector thread is next executed and notices that it can be freed.\\n\\nPut simply, automatic garbage collection reduces programming effort,\\nprogramming errors, and program complexity.\\n\\n[MML: 0.995a]\\n[Version:  $Id:  //depot/main/src/edu/modules/JavaBasics/javaBasics.mml#3  $]\\n\\n© 1996-2003 jGuru.com. All Rights Reserved.\\n\\nJava Basics -21\\n\\n\\x0cJava Basics\\n\\nJava Basics -22\\n\\n© 1996-2003 jGuru.com. All Rights Reserved.\\n\\n\\x0cJava Basics\\n\\nThis page intentionally left blank\\n\\n© 1996-2003 jGuru.com. All Rights Reserved.\\n\\nJava Basics -23\\n\\n\\x0c'"
            ]
          },
          "metadata": {
            "tags": []
          },
          "execution_count": 137
        }
      ]
    },
    {
      "metadata": {
        "id": "iu6WoMe8fR7X",
        "colab_type": "code",
        "colab": {}
      },
      "cell_type": "code",
      "source": [
        "from nltk.tokenize import sent_tokenize\n",
        "\n",
        "sent_tokenize_list=sent_tokenize(text)\n",
        "sent_tokenize_list=[x.replace(\"\\n\",\" \") for x in sent_tokenize_list]\n",
        "sent_tokenize_list=[x.replace(\"•\",\"\") for x in sent_tokenize_list]\n",
        "\n"
      ],
      "execution_count": 0,
      "outputs": []
    },
    {
      "metadata": {
        "id": "F-IjUSDNprQx",
        "colab_type": "code",
        "colab": {}
      },
      "cell_type": "code",
      "source": [
        "# #Reading them now\n",
        "# file = open('JavaBasics-notes.pdf', 'rb')\n",
        "# fileReader = PyPDF2.PdfFileReader(file)"
      ],
      "execution_count": 0,
      "outputs": []
    },
    {
      "metadata": {
        "id": "m8rqnkwMwW5T",
        "colab_type": "code",
        "colab": {}
      },
      "cell_type": "code",
      "source": [
        "#Convert it to string\n",
        "# num_pages=fileReader.numPages\n",
        "# count=0\n",
        "# text=' '\n",
        "\n",
        "# while count<num_pages:\n",
        "#     pageObj = fileReader.getPage(count)\n",
        "#     count +=1\n",
        "#     text += pageObj.extractText()"
      ],
      "execution_count": 0,
      "outputs": []
    },
    {
      "metadata": {
        "id": "ssbvj8Qzwpmc",
        "colab_type": "code",
        "colab": {
          "base_uri": "https://localhost:8080/",
          "height": 71
        },
        "outputId": "49755016-2295-46d0-b8ce-fde163b7a0fe"
      },
      "cell_type": "code",
      "source": [
        "#Now starting the preprocessing part,first converting to lower case.\n",
        "# text=text.lower()\n",
        "# print(text[:100])\n",
        "# [text]"
      ],
      "execution_count": 77,
      "outputs": [
        {
          "output_type": "stream",
          "text": [
            " java basics© 1996-2003 jguru.com. all rights reserved.java basics -1java basicstopics in this secti\n"
          ],
          "name": "stdout"
        },
        {
          "output_type": "execute_result",
          "data": {
            "text/plain": [
              "[' java basics© 1996-2003 jguru.com. all rights reserved.java basics -1java basicstopics in this section include:! what makes java programs portable, secure, and robust! the structure of java applets and applications! how java applications are executed! how applets are invoked and executed! the java language, part i! comments! declarations! expressions! statements! garbage collection! java semanticsportabilityjava programs are portable across operating systems and hardware environments.portability is to your advantage because:! you need only one version of your software to serve a broad market.! the internet, in effect, becomes one giant, dynamic library.! you are no longer limited by your particular computer platform.three features make java string programs portable:1. the language. the java language is completely specified; all data-type sizes andformats are defined as part of the language. by contrast, c/c++ leaves these\"details\" up to the compiler implementor, and many c/c++ programs thereforejava basicsjava basics -2© 1996-2003 jguru.com. all rights reserved.are not portable.2. the library. the java class library is available on any machine with a javaruntime system, because a portable program is of no use if you cannot use thesame class library on every platform. window-manager function calls in a macapplication written in c/c++, for example, do not port well to a pc.3. the byte code. the java runtime system does not compile your source codedirectly into machine language, an inflexible and nonportable representation ofyour program. instead, java programs are translated into machine-independentbyte code. the byte code is easily interpreted and therefore can be executed onany platform having a java runtime system. (the latest versions of the netscapenavigator browser, for example, can run applets on virtually any platform).securitythe java language is secure in that it is very difficult to write incorrect code orviruses that can corrupt/steal your data, or harm hardware such as hard disks.there are two main lines of defense:! interpreter level:! no pointer arithmetic! garbage collection! array bounds checking! no illegal data conversions! browser level (applies to applets only):! no local file i/o! sockets back to host only! no calls to native methodsrobustnessthe java language is robust. it has several features designed to avoid crashesduring program execution, including:! no pointer arithmeticjava basics© 1996-2003 jguru.com. all rights reserved.java basics -3! garbage collection--no bad addresses! array and string bounds checking! no jumping to bad method addresses! interfaces and exceptionsjava program structurea file containing java source code is considered a compilation unit. such acompilation unit contains a set of classes and, optionally, a package definition togroup related classes together. classes contain data and method members thatspecify the state and behavior of the objects in your program.java programs come in two flavors:! standalone applications that have no initial context such as a pre-existing mainwindow! applets for www programmingthe major differences between applications and applets are:! applets are not allowed to use file i/o and sockets (other than to the hostplatform). applications do not have these restrictions.! an applet must be a subclass of the java applet class. aplications do not need tosubclass any particular class.! unlike applets, applications can have menus.! unlike applications, applets need to respond to predefined lifecycle messagesfrom the www browser in which they\\'re running.java program executionthe java byte-code compiler translates a java source file into machine-independent byte code. the byte code for each publicly visible class is placed in aseparate file, so that the java runtime system can easily find it. if your programinstantiates an object of class a, for example, the class loader searches thedirectories listed in your classpath environment variable for a file called a.classthat contains the class definition and byte code for class a.there is no link phase for java programs; all linking is done dynamically atjava basicsjava basics -4© 1996-2003 jguru.com. all rights reserved.runtime.the following diagram shows an example of the java compilation and executionsequence for a source file named a.java containing public class a and non-publicclass b:java programs are, in effect, distributed applications. you may think of them as acollection of dlls (dynamically loadable libraries) that are linked on demand atruntime. when you write your own java applications, you will often integrateyour program with already-existing portions of code that reside on othermachines.a simple applicationconsider the following trivial application that prints \"hi there\" to standardoutput:java basics© 1996-2003 jguru.com. all rights reserved.java basics -5public class trivialapplication {  // args[0] is first argument  // args[1] the second  public static void main(string args[]) {    system.out.println(\"hi there\");  }}the command java trivialapplication tells the java runtime system to beginwith the class file trivialapplication.class and to look in that file for amethod with the signature:public static void main(string args[]);the main() method will always reside in one of your class files. the javalanguage does not allow methods outside of class definitions. the class, in effect,creates scoped symbol startingclassname.main for your main() method.applet executionan applet is a java program that runs within a java-compatible www browser orin an appletviewer. to execute your applet, the browser:! creates an instance of your applet! sends messages to your applet to automatically invoke predefined lifecyclemethodsthe predefined methods automatically invoked by the runtime system are:! init(). this method takes the place of the applet constructor and is only calledonce during applet creation. instance variables should be initialized in this method.gui components such as buttons and scrollbars should be added to the gui inthis method.! start(). this method is called once after init() and whenever your applet isrevisited by your browser, or when you deiconify your browser. this methodshould be used to start animations and other threads.! paint(graphics g). this method is called when the applet drawing area needsto be redrawn. anything not drawn by contained components must be drawn inthis method. bitmaps, for example, are drawn here, but buttons are not becausethey handle their own painting.! stop(). this method is called when you leave an applet or when you iconifyyour browser. the method should be used to suspend animations and otherjava basicsjava basics -6© 1996-2003 jguru.com. all rights reserved.threads so they do not burden system resources unnecessarily. it is guaranteed tobe called before destroy().! destroy(). this method is called when an applet terminates, for example, whenquitting the browser. final clean-up operations such as freeing up systemresources with dispose() should be done here. the dispose() method of frameremoves the menu bar. therefore, do not forget to call super.dispose() if youoverride the default behavior.the basic structure of an applet that uses each of these predefined methods is:import java.applet.applet;// include all awt class definitionsimport java.awt.*;public class applettemplate extends applet {  public void init() {    // create gui, initialize applet  }  public void start() {    // start threads, animations etc...  }  public void paint(graphics g) {    // draw things in g  }  public void stop() {    // suspend threads, stop animations etc...  }  public void destroy() {    // free up system resources, stop threads  }}all you have to do is fill in the appropriate methods to bring your applet to life. ifyou don\\'t need to use one or more of these predefined methods, simply leave themout of your applet. the applet will ignore messages from the browser attemptingto invoke any of these methods that you don\\'t use.a simple appletthe following complete applet displays \"hello, world wide web!\" in yourbrowser window:import java.applet.applet;import java.awt.graphics;public class trivialapplet extends applet {  public void paint(graphics g) {    // display a string at 20,20java basics© 1996-2003 jguru.com. all rights reserved.java basics -7    // where 0,0 is the upper-left corner    g.drawstring(\"hello, world wide web!\", 20, 20);  }}an appletviewer may be used instead of a www browser to test applets. forexample, the output of trivialapplet on an appletviewer looks like:html/applet interfacethe html applet tag is similar to the html img tag, and has the form:<applet code=appletname.class width=w height=h>[parameters]</applet>where the optional parameters are a list of parameter definitions of the form:<param name=n value=v>an example tag with parameter definitions is:<applet code=appletname.class width=300 height=200><param name=p1 value=34><param name=p2 value=\"test\"></applet>where p1 and p2 are user-defined parameters.the code, width, and height parameters are mandatory. the parameterscodebase, alt, archives, align, vspace, and hspace are optional within the<applet> tag itself. your applet can access any of these parameters by calling:applet.getparameter(\"p\")which returns the string value of the parameter. for example, the applet:import java.applet.applet;public class paramtest extends applet {  public void init() {    system.out.println(\"width is \" + getparameter(\"width\"));    system.out.println(\"p1 is \"    + getparameter(\"p1\"));java basicsjava basics -8© 1996-2003 jguru.com. all rights reserved.    system.out.println(\"p2 is \"    + getparameter(\"p2\"));  }}prints the following to standard output:width is 300p1 is 34p2 is testcommentsjava comments are the same as c++ comments, i.e.,/* c-style block comments */where all text between the opening /* and closing */ is ignored, and// c++ style single-line commentswhere all text from the opening // to the end of the line is ignored.note that these two comments can make a very useful combination. c-stylecomments (/* ... */) cannot be nested, but can contain c++ style comments.this leads to the interesting observation that if you always use c++-stylecomments (// ...), you can easily comment out a section of code by surroundingit with c-style comments. so try to use c++ style comments for your \"normal\"code commentary, and reserve c-style comments for commenting out sections ofcode.the java language also has a document comment:/** document comment */these comments are processed by the javadoc program to generatedocumentation from your source code. for example,/** this class does blah blah blah */class blah {  /** this method does nothing  /**   * this is a multiple line comment.   * the leading * is not placed in documentation.   */  public void nothing() {;}}java basics© 1996-2003 jguru.com. all rights reserved.java basics -9declarationsa java variable may refer to an object, an array, or an item of primitive type.variables are defined using the following simple syntax:typename variablename;for example,int a;     // defines an integerint[] b;   // defines a reference to array of intsvector v;  // reference to a vector objectprimitive typesthe java language has the following primitive types:primitive typesprimitive typedescriptionbooleantrue/falsebyte8 bitschar16 bits (unicode)short16 bitsint32 bitslong64 bitsfloat32 bits ieee 754-1985double64 bits ieee 754-1985java int types may not be used as boolean types and are always signed.objectsa simple c++ object or c struct definition such as \"button b;\" allocatesmemory on the stack for a button object and makes b refer to it. by contrast, youmust specifically instantiate java objects with the new operator. for example,java basicsjava basics -10© 1996-2003 jguru.com. all rights reserved.// java codevoid foo() {  // define a reference to a button; init to null  button b;  // allocate space for a button, b points to it  b = new button(\"ok\");  int i = 2;}as the accompanying figure shows, this code places a reference b to the buttonobject on the stack and allocates memory for the new object on the heap.the equivalent c++ and c statements that would allocate memory on the heapwould be:// c++ codebutton *b = null;      // declare a new button pointerb = new button(\"ok\");  // point it to a new button/* c code */button *b = null;              /* declare a new button pointer */b = calloc(1, sizeof(button)); /* allocate space for a button */init(b, \"ok\");                 /* something like this to init b */all java objects reside on the heap; there are no objects stored on the stack.storing objects on the heap does not cause potential memory leakage problemsbecause of garbage collection.each java primitive type has an equivalent object type, e.g., integer, byte,float, double. these primitive types are provided in addition to object typespurely for efficiency. an int is much more efficient than an integer.java basics© 1996-2003 jguru.com. all rights reserved.java basics -11stringsjava string literals look the same as those in c/c++, but java strings are realobjects, not pointers to memory. java strings may or may not be null-terminated.every string literal such as\"a string literal\"is interpreted by the java compiler asnew string(\"a string literal\")java strings are constant in length and content. for variable-length strings, usestringbuffer objects.strings may be concatenated by using the plus operator:string s = \"one\" + \"two\"; // s == \"onetwo\"you may concatenate any object to a string. you use the tostring() method toconvert objects to a string, and primitive types are converted by the compiler.for example,string s = \"1+1=\" + 2; // s == \"1+1=2\"the length of a string may be obtained with string method length(); e.g.,\"abc\".length() has the value 3.to convert an int to a string, use:string s = string.valueof(4);to convert a string to an int, use:int a = integer.parseint(\"4\");array objectsin c and c++, arrays are pointers to data in memory. java arrays are objects thatknow the number and type of their elements. the first element is index 0, as inc/c++.generic array object# elementsjava basicsjava basics -12© 1996-2003 jguru.com. all rights reserved.element typeelement 0element 1...element n-1the syntax for creating an array object is:typename[] variablename;this declaration defines the array object--it does not allocate memory for the arrayobject nor does it allocate the elements of the array in addition, you may notspecify a size within the square brackets.to allocate an array, use the new operator:int[] a = new int[5];  // java code: make array of 5 intsnew int[5]5int00000in c or c++, by contrast, you would write either/* c/c++ code: make array of 5 ints on the stack */int a[5];or/* c/c++ code: make array of 5 ints on the heap */java basics© 1996-2003 jguru.com. all rights reserved.java basics -13int *a = new int[5];an array of java objects such as// java code: make array of 5 references to buttonsbutton[] a = new button[5];creates the array object itself, but not the elements:new button[5]5buttonnull pointernull pointernull pointernull pointernull pointeryou must use the new operator to create the elements:a[0] = new button(\"ok\");a[3] = new button(\"quit\");in c++, to make an array of pointers to objects you would write:// c++: make an array of 5 pointers to buttonsbutton **a = new button *[5]; // create the arraya[0] = new button(\"ok\");      // create two new buttonsa[3] = new button(\"quit\");in c, code for the same task would look like:/* c: make an array of 5 pointers to structs *//* allocate the array */button **a = calloc(5, sizeof(button *));/* allocate one button */a[0] = calloc(1, sizeof(button));/* init the first button */settitle(a[0], \"ok\");/* allocate another button */a[3] = calloc(1, sizeof(button));/* init the second button */java basicsjava basics -14© 1996-2003 jguru.com. all rights reserved.settitle(a[3], \"quit\");multi-dimensional java arrays are created by making arrays of arrays, just as inc/c++. for example,t[][] t = new t[10][5];makes a five-element array of ten arrays of references to objects of type t. thisstatement does not allocate memory for any t objects.accessing an undefined array element causes a runtime exception calledarrayindexoutofboundsexception.accessing a defined array element that has not yet been assigned to an objectresults in a runtime nullpointerexception.initializersvariables may be initialized as follows:! primitive typesint i = 3;boolean g = true;! objectsbutton b = null;employee e = new employee();! arraysint[] i = {1, 2, 3, 4};or in java 1.1int[] i;i = new int[] {1, 2, 3, 4};constantsvariables modified by the static final keywords are constants (equivalent tothe const keyword in c++; no equivalent in c). for example,// same as \"const int version=1;\" in c++static final int version = 1;static final string owner = \"terence\";java basics© 1996-2003 jguru.com. all rights reserved.java basics -15expressionsmost java expressions are similar to those in c/c++.constant expressionsitemexamples or descriptionidi, namelistqualified-idinteger.max_value, obj.member,npackage.class, package.objid[e][f]...[g]a[i], b[3][4]string literal\"jim\", delimited by \"\"char literal\\'a\\', \\'\\\\t\\', delimited by \\'\\'unicode character constant\\\\u00aeboolean literaltrue, false (not an int)int constant4float constant3.14f, 2.7e6f, f or f suffixdouble constant3.14, 2.7e6d, (default) / d or d suffixhexadecimal constant0x123octal constant077nullthe null object (note lowercase!)thisthe current objectsuperthe superclass view of this objectgeneral expressionsitemexamples or descriptionjava basicsjava basics -16© 1996-2003 jguru.com. all rights reserved.idi, namelistobj.method(args)instance method callclass.method(args)class method call( expr )(3+4)*7new t(constructor-args)instantiates a new object or class tnew t[e][f]...[g]allocates an array objectoperatorsthe java language has added the >>> zero-extend right-shift operator to the set ofc++ operators. (c++ operators include instanceof and new, which are notpresent in c. note that sizeof has been removed, as memory allocation ishandled for you.) the operators, in order of highest to lowest priority, are:! new! .! -- ++ + - ~ ! (typename)! * / %! + -! << >> >>>! < > <= >= instanceof! == !=! &! ^! |! &&! ||! ?:! = *= /= %= += -= <<= >>= >>>= &= ^= |=note that the precedence of the new operator and the \\'.\\' operator bindjava basics© 1996-2003 jguru.com. all rights reserved.java basics -17differently than in c++. a proper java statement is:// java codenew t().method();in c++, you would use:// c++ code(new t)->method();statementsjava statements are similar to those in c/c++ as the following table shows.forms of common statementsstatementexamplesifif (boolean-expr) stat1if (boolean-expr) stat1 else stat2switchswitch (int-expr) {case int-const-expr : stat1case int-const-expr : stat2default : stat3}forfor (int i=0; i<10; i++) statwhilewhile (boolean-expr) statdo-whiledo { stats } while (boolean-expr)returnreturn expr;the java break and continue statements may have labels. these labels refer tothe specific loop that the break or continue apply to. (each loop can bepreceded by a label.)java semanticswe say that the java language has \"reference semantics\" and c/c++ have \"copysemantics.\" this means that java objects are passed to methods by reference injava, while objects are passed by value in c/c++.java primitive types, however, are not treated in the same way as java objects.primitive types are assigned, compared, and passed as arguments using copyjava basicsjava basics -18© 1996-2003 jguru.com. all rights reserved.semantics, just as in c/c++. for example, i = j for two int variables i and jperforms a 32-bit integer copy.assignment of objectsassignment makes two variables refer to the same object. for example,class data {  public int data = 0;  public data(int d) { data = d; }}i       data a = new data(1); // a.data is 1i       data b = new data(2); // b.data is 2ii      b = a;                // b.data and a.data are 1iii     a.data = 3;           // b.data and a.data are 3iv      a = new data(4);      // b.data is 3, a.data is 4to copy objects, define and use clone():class data implements cloneable {  public int data = 0;  public data(int d) { data = d; }  public object clone() {    data d = (data) super.clone();    d.data = data;    return d;  }}...data a = new data(1); // a.data is 1data b = new data(2); // b.data is 2b = a.clone();        // b.data and a.data are 1a.data = 3;           // b.data is 1, a.data is 3java basics© 1996-2003 jguru.com. all rights reserved.java basics -19note: the above class definition requires exception handling code. we, however,have not yet discussed exception handling. for now, pretend that it is notnecessary.method parameters and return valuesarguments and return values for primitive types are passed by value to and fromall java methods because they are implied assignments, as in c/c++. however, alljava objects are passed by reference. for example, the c/c++ code:// c++ codeint foo(int j) { return j + 34;}button *bfoo(button *b) {  if ( b != null ) return b;  else return new button();}or, in c/* c code */int foo(int j) { return j + 34;}button *bfoo(button *b) {  if ( b != null ) return b;  else return calloc(sizeof(button));}would be written in the java language:// java codeint foo(int j) { return j + 34;}button bfoo(button b) {  if ( b != null ) return b;  else return new button(\"ok\");}equalitytwo java primitive types are equal (using the == operator) when they have thesame value (e.g., \"3 == 3\"). however, two object variables are equal if and only ifthey refer to the same instantiated object--a \"shallow\" comparison. for example,void test() {  data a = new data(1);  data b = new data(2);  data c = new data(1);  // a == b is false  // a == c is false (in c++, this\\'d be true)java basicsjava basics -20© 1996-2003 jguru.com. all rights reserved.  data d = a;  data e = a;  // d == e is true,  // d,e are referring to same object}to perform a \"deep\" comparison, the convention is to define a method calledequals(). you would rewrite data as:class data {  public int data = 0;  public data(int d) { data = d; }  boolean equals(data d) {    return data == d.data;  }}...data a = new data(1);data b = new data(1);// a.equals(b) is true!!!!no pointers!the java language does not have pointer types nor address arithmetic. javavariables are either primitive types or references to objects. to illustrate thedifference between c/c++ and java semantics, consider the following equivalentcode fragments.// c++ code (c code would be similar)stack *s = new stack; // point to a new stacks->push(...);// dereference and access method push()the equivalent java code is:// java code// internally, consider s to be a (stack *)stack s = new stack();// dereference s automaticallys.push(...);garbage collectionan automatic garbage collector deallocates memory for objects that are no longerneeded by your program, thereby relieving you from the tedious and error-pronejava basics© 1996-2003 jguru.com. all rights reserved.java basics -21task of deallocating your own memory.as a consequence of automatic garbage collection and lack of pointers, a javaobject is either null or valid--there is no way to refer to an invalid or stale object(one that has been deallocated).to illustrate the effect of a garbage collector, consider the following c++ functionthat allocates 1000 objects on the heap via the new operator (a similar c functionwould allocate memory using calloc/malloc):// c++ codevoid f() {  t *t;  for (int i = 1; i <= 1000; i++) {    t = new t; // ack!!!!!  }}every time the loop body is executed, a new instance of class t is instantiated, andt is pointed to it. but what happens to the instance that t used to point to? it\\'sstill allocated, but nothing points to it and therefore it\\'s inaccessible. memory inthis state is referred to as \"leaked\" memory.in the java language, memory leaks are not an issue. the following java methodcauses no ill effects:// java codevoid f() {  t t;  for (int i = 1; i <= 1000; i++) {    t = new t();  }}in java, each time t is assigned a new reference, the old reference is now availablefor garbage collection. note that it isn\\'t immediately freed; it remains allocateduntil the garbage collector thread is next executed and notices that it can be freed.put simply, automatic garbage collection reduces programming effort,programming errors, and program complexity.[mml: 0.995a][version: $id: //depot/main/src/edu/modules/javabasics/javabasics.mml#3 $]java basicsjava basics -22© 1996-2003 jguru.com. all rights reserved.java basics© 1996-2003 jguru.com. all rights reserved.java basics -23this page intentionally left blank']"
            ]
          },
          "metadata": {
            "tags": []
          },
          "execution_count": 77
        }
      ]
    },
    {
      "metadata": {
        "id": "9okObG4HEksb",
        "colab_type": "code",
        "colab": {
          "base_uri": "https://localhost:8080/",
          "height": 34
        },
        "outputId": "d8726b89-e22f-4303-ceed-f35b6091ac59"
      },
      "cell_type": "code",
      "source": [
        "#Removing punctutaions and special characters,replacing them with a space.\n",
        "# my_new_string = re.sub('[^ a-zA-Z0-9]', ' ', text)\n",
        "# print(my_new_string[:50])"
      ],
      "execution_count": 55,
      "outputs": [
        {
          "output_type": "stream",
          "text": [
            " java basics  1996 2003 jguru com  all rights rese\n"
          ],
          "name": "stdout"
        }
      ]
    },
    {
      "metadata": {
        "id": "d6Knx-t2x58T",
        "colab_type": "code",
        "colab": {
          "base_uri": "https://localhost:8080/",
          "height": 4675
        },
        "outputId": "7deb2f53-9bca-40fc-ff85-93aca8377272"
      },
      "cell_type": "code",
      "source": [
        "# Uncomment the following line to download the libraries.\n",
        "nltk.download('all')"
      ],
      "execution_count": 140,
      "outputs": [
        {
          "output_type": "stream",
          "text": [
            "[nltk_data] Downloading collection 'all'\n",
            "[nltk_data]    | \n",
            "[nltk_data]    | Downloading package abc to /content/nltk_data...\n",
            "[nltk_data]    |   Package abc is already up-to-date!\n",
            "[nltk_data]    | Downloading package alpino to /content/nltk_data...\n",
            "[nltk_data]    |   Package alpino is already up-to-date!\n",
            "[nltk_data]    | Downloading package biocreative_ppi to\n",
            "[nltk_data]    |     /content/nltk_data...\n",
            "[nltk_data]    |   Package biocreative_ppi is already up-to-date!\n",
            "[nltk_data]    | Downloading package brown to /content/nltk_data...\n",
            "[nltk_data]    |   Package brown is already up-to-date!\n",
            "[nltk_data]    | Downloading package brown_tei to\n",
            "[nltk_data]    |     /content/nltk_data...\n",
            "[nltk_data]    |   Package brown_tei is already up-to-date!\n",
            "[nltk_data]    | Downloading package cess_cat to /content/nltk_data...\n",
            "[nltk_data]    |   Package cess_cat is already up-to-date!\n",
            "[nltk_data]    | Downloading package cess_esp to /content/nltk_data...\n",
            "[nltk_data]    |   Package cess_esp is already up-to-date!\n",
            "[nltk_data]    | Downloading package chat80 to /content/nltk_data...\n",
            "[nltk_data]    |   Package chat80 is already up-to-date!\n",
            "[nltk_data]    | Downloading package city_database to\n",
            "[nltk_data]    |     /content/nltk_data...\n",
            "[nltk_data]    |   Package city_database is already up-to-date!\n",
            "[nltk_data]    | Downloading package cmudict to /content/nltk_data...\n",
            "[nltk_data]    |   Package cmudict is already up-to-date!\n",
            "[nltk_data]    | Downloading package comparative_sentences to\n",
            "[nltk_data]    |     /content/nltk_data...\n",
            "[nltk_data]    |   Package comparative_sentences is already up-to-\n",
            "[nltk_data]    |       date!\n",
            "[nltk_data]    | Downloading package comtrans to /content/nltk_data...\n",
            "[nltk_data]    |   Package comtrans is already up-to-date!\n",
            "[nltk_data]    | Downloading package conll2000 to\n",
            "[nltk_data]    |     /content/nltk_data...\n",
            "[nltk_data]    |   Package conll2000 is already up-to-date!\n",
            "[nltk_data]    | Downloading package conll2002 to\n",
            "[nltk_data]    |     /content/nltk_data...\n",
            "[nltk_data]    |   Package conll2002 is already up-to-date!\n",
            "[nltk_data]    | Downloading package conll2007 to\n",
            "[nltk_data]    |     /content/nltk_data...\n",
            "[nltk_data]    |   Package conll2007 is already up-to-date!\n",
            "[nltk_data]    | Downloading package crubadan to /content/nltk_data...\n",
            "[nltk_data]    |   Package crubadan is already up-to-date!\n",
            "[nltk_data]    | Downloading package dependency_treebank to\n",
            "[nltk_data]    |     /content/nltk_data...\n",
            "[nltk_data]    |   Package dependency_treebank is already up-to-date!\n",
            "[nltk_data]    | Downloading package dolch to /content/nltk_data...\n",
            "[nltk_data]    |   Package dolch is already up-to-date!\n",
            "[nltk_data]    | Downloading package europarl_raw to\n",
            "[nltk_data]    |     /content/nltk_data...\n",
            "[nltk_data]    |   Package europarl_raw is already up-to-date!\n",
            "[nltk_data]    | Downloading package floresta to /content/nltk_data...\n",
            "[nltk_data]    |   Package floresta is already up-to-date!\n",
            "[nltk_data]    | Downloading package framenet_v15 to\n",
            "[nltk_data]    |     /content/nltk_data...\n",
            "[nltk_data]    |   Package framenet_v15 is already up-to-date!\n",
            "[nltk_data]    | Downloading package framenet_v17 to\n",
            "[nltk_data]    |     /content/nltk_data...\n",
            "[nltk_data]    |   Package framenet_v17 is already up-to-date!\n",
            "[nltk_data]    | Downloading package gazetteers to\n",
            "[nltk_data]    |     /content/nltk_data...\n",
            "[nltk_data]    |   Package gazetteers is already up-to-date!\n",
            "[nltk_data]    | Downloading package genesis to /content/nltk_data...\n",
            "[nltk_data]    |   Package genesis is already up-to-date!\n",
            "[nltk_data]    | Downloading package gutenberg to\n",
            "[nltk_data]    |     /content/nltk_data...\n",
            "[nltk_data]    |   Package gutenberg is already up-to-date!\n",
            "[nltk_data]    | Downloading package ieer to /content/nltk_data...\n",
            "[nltk_data]    |   Package ieer is already up-to-date!\n",
            "[nltk_data]    | Downloading package inaugural to\n",
            "[nltk_data]    |     /content/nltk_data...\n",
            "[nltk_data]    |   Package inaugural is already up-to-date!\n",
            "[nltk_data]    | Downloading package indian to /content/nltk_data...\n",
            "[nltk_data]    |   Package indian is already up-to-date!\n",
            "[nltk_data]    | Downloading package jeita to /content/nltk_data...\n",
            "[nltk_data]    |   Package jeita is already up-to-date!\n",
            "[nltk_data]    | Downloading package kimmo to /content/nltk_data...\n",
            "[nltk_data]    |   Package kimmo is already up-to-date!\n",
            "[nltk_data]    | Downloading package knbc to /content/nltk_data...\n",
            "[nltk_data]    |   Package knbc is already up-to-date!\n",
            "[nltk_data]    | Downloading package lin_thesaurus to\n",
            "[nltk_data]    |     /content/nltk_data...\n",
            "[nltk_data]    |   Package lin_thesaurus is already up-to-date!\n",
            "[nltk_data]    | Downloading package mac_morpho to\n",
            "[nltk_data]    |     /content/nltk_data...\n",
            "[nltk_data]    |   Package mac_morpho is already up-to-date!\n",
            "[nltk_data]    | Downloading package machado to /content/nltk_data...\n",
            "[nltk_data]    |   Package machado is already up-to-date!\n",
            "[nltk_data]    | Downloading package masc_tagged to\n",
            "[nltk_data]    |     /content/nltk_data...\n",
            "[nltk_data]    |   Package masc_tagged is already up-to-date!\n",
            "[nltk_data]    | Downloading package moses_sample to\n",
            "[nltk_data]    |     /content/nltk_data...\n",
            "[nltk_data]    |   Package moses_sample is already up-to-date!\n",
            "[nltk_data]    | Downloading package movie_reviews to\n",
            "[nltk_data]    |     /content/nltk_data...\n",
            "[nltk_data]    |   Package movie_reviews is already up-to-date!\n",
            "[nltk_data]    | Downloading package names to /content/nltk_data...\n",
            "[nltk_data]    |   Package names is already up-to-date!\n",
            "[nltk_data]    | Downloading package nombank.1.0 to\n",
            "[nltk_data]    |     /content/nltk_data...\n",
            "[nltk_data]    |   Package nombank.1.0 is already up-to-date!\n",
            "[nltk_data]    | Downloading package nps_chat to /content/nltk_data...\n",
            "[nltk_data]    |   Package nps_chat is already up-to-date!\n",
            "[nltk_data]    | Downloading package omw to /content/nltk_data...\n",
            "[nltk_data]    |   Package omw is already up-to-date!\n",
            "[nltk_data]    | Downloading package opinion_lexicon to\n",
            "[nltk_data]    |     /content/nltk_data...\n",
            "[nltk_data]    |   Package opinion_lexicon is already up-to-date!\n",
            "[nltk_data]    | Downloading package paradigms to\n",
            "[nltk_data]    |     /content/nltk_data...\n",
            "[nltk_data]    |   Package paradigms is already up-to-date!\n",
            "[nltk_data]    | Downloading package pil to /content/nltk_data...\n",
            "[nltk_data]    |   Package pil is already up-to-date!\n",
            "[nltk_data]    | Downloading package pl196x to /content/nltk_data...\n",
            "[nltk_data]    |   Package pl196x is already up-to-date!\n",
            "[nltk_data]    | Downloading package ppattach to /content/nltk_data...\n",
            "[nltk_data]    |   Package ppattach is already up-to-date!\n",
            "[nltk_data]    | Downloading package problem_reports to\n",
            "[nltk_data]    |     /content/nltk_data...\n",
            "[nltk_data]    |   Package problem_reports is already up-to-date!\n",
            "[nltk_data]    | Downloading package propbank to /content/nltk_data...\n",
            "[nltk_data]    |   Package propbank is already up-to-date!\n",
            "[nltk_data]    | Downloading package ptb to /content/nltk_data...\n",
            "[nltk_data]    |   Package ptb is already up-to-date!\n",
            "[nltk_data]    | Downloading package product_reviews_1 to\n",
            "[nltk_data]    |     /content/nltk_data...\n",
            "[nltk_data]    |   Package product_reviews_1 is already up-to-date!\n",
            "[nltk_data]    | Downloading package product_reviews_2 to\n",
            "[nltk_data]    |     /content/nltk_data...\n",
            "[nltk_data]    |   Package product_reviews_2 is already up-to-date!\n",
            "[nltk_data]    | Downloading package pros_cons to\n",
            "[nltk_data]    |     /content/nltk_data...\n",
            "[nltk_data]    |   Package pros_cons is already up-to-date!\n",
            "[nltk_data]    | Downloading package qc to /content/nltk_data...\n",
            "[nltk_data]    |   Package qc is already up-to-date!\n",
            "[nltk_data]    | Downloading package reuters to /content/nltk_data...\n",
            "[nltk_data]    |   Package reuters is already up-to-date!\n",
            "[nltk_data]    | Downloading package rte to /content/nltk_data...\n",
            "[nltk_data]    |   Package rte is already up-to-date!\n",
            "[nltk_data]    | Downloading package semcor to /content/nltk_data...\n",
            "[nltk_data]    |   Package semcor is already up-to-date!\n",
            "[nltk_data]    | Downloading package senseval to /content/nltk_data...\n",
            "[nltk_data]    |   Package senseval is already up-to-date!\n",
            "[nltk_data]    | Downloading package sentiwordnet to\n",
            "[nltk_data]    |     /content/nltk_data...\n",
            "[nltk_data]    |   Package sentiwordnet is already up-to-date!\n",
            "[nltk_data]    | Downloading package sentence_polarity to\n",
            "[nltk_data]    |     /content/nltk_data...\n",
            "[nltk_data]    |   Package sentence_polarity is already up-to-date!\n",
            "[nltk_data]    | Downloading package shakespeare to\n",
            "[nltk_data]    |     /content/nltk_data...\n",
            "[nltk_data]    |   Package shakespeare is already up-to-date!\n",
            "[nltk_data]    | Downloading package sinica_treebank to\n",
            "[nltk_data]    |     /content/nltk_data...\n",
            "[nltk_data]    |   Package sinica_treebank is already up-to-date!\n",
            "[nltk_data]    | Downloading package smultron to /content/nltk_data...\n",
            "[nltk_data]    |   Package smultron is already up-to-date!\n",
            "[nltk_data]    | Downloading package state_union to\n",
            "[nltk_data]    |     /content/nltk_data...\n",
            "[nltk_data]    |   Package state_union is already up-to-date!\n",
            "[nltk_data]    | Downloading package stopwords to\n",
            "[nltk_data]    |     /content/nltk_data...\n",
            "[nltk_data]    |   Package stopwords is already up-to-date!\n",
            "[nltk_data]    | Downloading package subjectivity to\n",
            "[nltk_data]    |     /content/nltk_data...\n",
            "[nltk_data]    |   Package subjectivity is already up-to-date!\n",
            "[nltk_data]    | Downloading package swadesh to /content/nltk_data...\n",
            "[nltk_data]    |   Package swadesh is already up-to-date!\n",
            "[nltk_data]    | Downloading package switchboard to\n",
            "[nltk_data]    |     /content/nltk_data...\n",
            "[nltk_data]    |   Package switchboard is already up-to-date!\n",
            "[nltk_data]    | Downloading package timit to /content/nltk_data...\n",
            "[nltk_data]    |   Package timit is already up-to-date!\n",
            "[nltk_data]    | Downloading package toolbox to /content/nltk_data...\n",
            "[nltk_data]    |   Package toolbox is already up-to-date!\n",
            "[nltk_data]    | Downloading package treebank to /content/nltk_data...\n",
            "[nltk_data]    |   Package treebank is already up-to-date!\n",
            "[nltk_data]    | Downloading package twitter_samples to\n",
            "[nltk_data]    |     /content/nltk_data...\n",
            "[nltk_data]    |   Package twitter_samples is already up-to-date!\n",
            "[nltk_data]    | Downloading package udhr to /content/nltk_data...\n",
            "[nltk_data]    |   Package udhr is already up-to-date!\n",
            "[nltk_data]    | Downloading package udhr2 to /content/nltk_data...\n",
            "[nltk_data]    |   Package udhr2 is already up-to-date!\n",
            "[nltk_data]    | Downloading package unicode_samples to\n",
            "[nltk_data]    |     /content/nltk_data...\n",
            "[nltk_data]    |   Package unicode_samples is already up-to-date!\n",
            "[nltk_data]    | Downloading package universal_treebanks_v20 to\n",
            "[nltk_data]    |     /content/nltk_data...\n",
            "[nltk_data]    |   Package universal_treebanks_v20 is already up-to-\n",
            "[nltk_data]    |       date!\n",
            "[nltk_data]    | Downloading package verbnet to /content/nltk_data...\n",
            "[nltk_data]    |   Package verbnet is already up-to-date!\n",
            "[nltk_data]    | Downloading package webtext to /content/nltk_data...\n",
            "[nltk_data]    |   Package webtext is already up-to-date!\n",
            "[nltk_data]    | Downloading package wordnet to /content/nltk_data...\n",
            "[nltk_data]    |   Package wordnet is already up-to-date!\n",
            "[nltk_data]    | Downloading package wordnet_ic to\n",
            "[nltk_data]    |     /content/nltk_data...\n",
            "[nltk_data]    |   Package wordnet_ic is already up-to-date!\n",
            "[nltk_data]    | Downloading package words to /content/nltk_data...\n",
            "[nltk_data]    |   Package words is already up-to-date!\n",
            "[nltk_data]    | Downloading package ycoe to /content/nltk_data...\n",
            "[nltk_data]    |   Package ycoe is already up-to-date!\n",
            "[nltk_data]    | Downloading package rslp to /content/nltk_data...\n",
            "[nltk_data]    |   Package rslp is already up-to-date!\n",
            "[nltk_data]    | Downloading package maxent_treebank_pos_tagger to\n",
            "[nltk_data]    |     /content/nltk_data...\n",
            "[nltk_data]    |   Package maxent_treebank_pos_tagger is already up-\n",
            "[nltk_data]    |       to-date!\n",
            "[nltk_data]    | Downloading package universal_tagset to\n",
            "[nltk_data]    |     /content/nltk_data...\n",
            "[nltk_data]    |   Package universal_tagset is already up-to-date!\n",
            "[nltk_data]    | Downloading package maxent_ne_chunker to\n",
            "[nltk_data]    |     /content/nltk_data...\n",
            "[nltk_data]    |   Package maxent_ne_chunker is already up-to-date!\n",
            "[nltk_data]    | Downloading package punkt to /content/nltk_data...\n",
            "[nltk_data]    |   Package punkt is already up-to-date!\n",
            "[nltk_data]    | Downloading package book_grammars to\n",
            "[nltk_data]    |     /content/nltk_data...\n",
            "[nltk_data]    |   Package book_grammars is already up-to-date!\n",
            "[nltk_data]    | Downloading package sample_grammars to\n",
            "[nltk_data]    |     /content/nltk_data...\n",
            "[nltk_data]    |   Package sample_grammars is already up-to-date!\n",
            "[nltk_data]    | Downloading package spanish_grammars to\n",
            "[nltk_data]    |     /content/nltk_data...\n",
            "[nltk_data]    |   Package spanish_grammars is already up-to-date!\n",
            "[nltk_data]    | Downloading package basque_grammars to\n",
            "[nltk_data]    |     /content/nltk_data...\n",
            "[nltk_data]    |   Package basque_grammars is already up-to-date!\n",
            "[nltk_data]    | Downloading package large_grammars to\n",
            "[nltk_data]    |     /content/nltk_data...\n",
            "[nltk_data]    |   Package large_grammars is already up-to-date!\n",
            "[nltk_data]    | Downloading package tagsets to /content/nltk_data...\n",
            "[nltk_data]    |   Package tagsets is already up-to-date!\n",
            "[nltk_data]    | Downloading package snowball_data to\n",
            "[nltk_data]    |     /content/nltk_data...\n",
            "[nltk_data]    |   Package snowball_data is already up-to-date!\n",
            "[nltk_data]    | Downloading package bllip_wsj_no_aux to\n",
            "[nltk_data]    |     /content/nltk_data...\n",
            "[nltk_data]    |   Package bllip_wsj_no_aux is already up-to-date!\n",
            "[nltk_data]    | Downloading package word2vec_sample to\n",
            "[nltk_data]    |     /content/nltk_data...\n",
            "[nltk_data]    |   Package word2vec_sample is already up-to-date!\n",
            "[nltk_data]    | Downloading package panlex_swadesh to\n",
            "[nltk_data]    |     /content/nltk_data...\n",
            "[nltk_data]    |   Package panlex_swadesh is already up-to-date!\n",
            "[nltk_data]    | Downloading package mte_teip5 to\n",
            "[nltk_data]    |     /content/nltk_data...\n",
            "[nltk_data]    |   Package mte_teip5 is already up-to-date!\n",
            "[nltk_data]    | Downloading package averaged_perceptron_tagger to\n",
            "[nltk_data]    |     /content/nltk_data...\n",
            "[nltk_data]    |   Package averaged_perceptron_tagger is already up-\n",
            "[nltk_data]    |       to-date!\n",
            "[nltk_data]    | Downloading package perluniprops to\n",
            "[nltk_data]    |     /content/nltk_data...\n",
            "[nltk_data]    |   Package perluniprops is already up-to-date!\n",
            "[nltk_data]    | Downloading package nonbreaking_prefixes to\n",
            "[nltk_data]    |     /content/nltk_data...\n",
            "[nltk_data]    |   Package nonbreaking_prefixes is already up-to-date!\n",
            "[nltk_data]    | Downloading package vader_lexicon to\n",
            "[nltk_data]    |     /content/nltk_data...\n",
            "[nltk_data]    |   Package vader_lexicon is already up-to-date!\n",
            "[nltk_data]    | Downloading package porter_test to\n",
            "[nltk_data]    |     /content/nltk_data...\n",
            "[nltk_data]    |   Package porter_test is already up-to-date!\n",
            "[nltk_data]    | Downloading package wmt15_eval to\n",
            "[nltk_data]    |     /content/nltk_data...\n",
            "[nltk_data]    |   Package wmt15_eval is already up-to-date!\n",
            "[nltk_data]    | Downloading package mwa_ppdb to /content/nltk_data...\n",
            "[nltk_data]    |   Package mwa_ppdb is already up-to-date!\n",
            "[nltk_data]    | \n",
            "[nltk_data]  Done downloading collection all\n"
          ],
          "name": "stdout"
        },
        {
          "output_type": "execute_result",
          "data": {
            "text/plain": [
              "True"
            ]
          },
          "metadata": {
            "tags": []
          },
          "execution_count": 140
        }
      ]
    },
    {
      "metadata": {
        "id": "LYLE0GCl2EZF",
        "colab_type": "code",
        "colab": {
          "base_uri": "https://localhost:8080/",
          "height": 34
        },
        "outputId": "827c9aba-5c6b-44b2-b725-9a22fc4f6707"
      },
      "cell_type": "code",
      "source": [
        "#Tokenizing and stopwords removal\n",
        "# tokens=word_tokenize(my_new_string)\n",
        "# sw=stopwords.words('english')\n",
        "# len(tokens)"
      ],
      "execution_count": 57,
      "outputs": [
        {
          "output_type": "execute_result",
          "data": {
            "text/plain": [
              "3912"
            ]
          },
          "metadata": {
            "tags": []
          },
          "execution_count": 57
        }
      ]
    },
    {
      "metadata": {
        "id": "gHTTKLFR29jl",
        "colab_type": "code",
        "colab": {}
      },
      "cell_type": "code",
      "source": [
        "#preprocessing to remove useless words\n",
        "# keywords=[x for x in my_new_string if not x in sw ]\n",
        "# z=[re.findall('\\d+|\\D+', x) for x in my_new_string]\n",
        "# [x for sublist in z for x in sublist]\n",
        "# z2=[x for x in sent_tokenize_list if not x.isdigit()]\n",
        "# final_str[:10]"
      ],
      "execution_count": 0,
      "outputs": []
    },
    {
      "metadata": {
        "id": "e4cmVFweXhKR",
        "colab_type": "code",
        "colab": {
          "base_uri": "https://localhost:8080/",
          "height": 1969
        },
        "outputId": "d282403e-d4fe-4690-bd02-2ef2d4aff613"
      },
      "cell_type": "code",
      "source": [
        "import pandas as pd\n",
        "from sklearn.feature_extraction.text import TfidfVectorizer\n",
        "vectorizer = TfidfVectorizer(max_df=2.0, min_df=1,max_features=None, stop_words=\"english\",ngram_range=(1,2))\n",
        "tfidf_matrix = vectorizer.fit_transform(sent_tokenize_list)\n",
        "feature_names = vectorizer.get_feature_names()\n",
        "idf =(vectorizer.idf_)\n",
        "dict_=dict(zip(feature_names, idf))\n",
        "dict_sorted=sorted(dict_.items(), key=lambda x: x[1])\n",
        "df=pd.DataFrame(list(dict_.items()),columns=['Words','Frequency(most commmon->least common)'])\n",
        "df.sort_values(['Frequency(most commmon->least common)'],inplace=True)\n",
        "df\n",
        "# sorted(dict_.items(), key=lambda x: x[1])\n"
      ],
      "execution_count": 185,
      "outputs": [
        {
          "output_type": "execute_result",
          "data": {
            "text/html": [
              "<div>\n",
              "<style scoped>\n",
              "    .dataframe tbody tr th:only-of-type {\n",
              "        vertical-align: middle;\n",
              "    }\n",
              "\n",
              "    .dataframe tbody tr th {\n",
              "        vertical-align: top;\n",
              "    }\n",
              "\n",
              "    .dataframe thead th {\n",
              "        text-align: right;\n",
              "    }\n",
              "</style>\n",
              "<table border=\"1\" class=\"dataframe\">\n",
              "  <thead>\n",
              "    <tr style=\"text-align: right;\">\n",
              "      <th></th>\n",
              "      <th>Words</th>\n",
              "      <th>Frequency(most commmon-&gt;least common)</th>\n",
              "    </tr>\n",
              "  </thead>\n",
              "  <tbody>\n",
              "    <tr>\n",
              "      <th>1195</th>\n",
              "      <td>java</td>\n",
              "      <td>1.934309</td>\n",
              "    </tr>\n",
              "    <tr>\n",
              "      <th>263</th>\n",
              "      <td>basics</td>\n",
              "      <td>2.722767</td>\n",
              "    </tr>\n",
              "    <tr>\n",
              "      <th>1201</th>\n",
              "      <td>java basics</td>\n",
              "      <td>2.722767</td>\n",
              "    </tr>\n",
              "    <tr>\n",
              "      <th>454</th>\n",
              "      <td>code</td>\n",
              "      <td>2.982278</td>\n",
              "    </tr>\n",
              "    <tr>\n",
              "      <th>1419</th>\n",
              "      <td>method</td>\n",
              "      <td>3.059239</td>\n",
              "    </tr>\n",
              "    <tr>\n",
              "      <th>1237</th>\n",
              "      <td>jguru</td>\n",
              "      <td>3.100061</td>\n",
              "    </tr>\n",
              "    <tr>\n",
              "      <th>36</th>\n",
              "      <td>1996</td>\n",
              "      <td>3.100061</td>\n",
              "    </tr>\n",
              "    <tr>\n",
              "      <th>1238</th>\n",
              "      <td>jguru com</td>\n",
              "      <td>3.100061</td>\n",
              "    </tr>\n",
              "    <tr>\n",
              "      <th>45</th>\n",
              "      <td>2003</td>\n",
              "      <td>3.100061</td>\n",
              "    </tr>\n",
              "    <tr>\n",
              "      <th>46</th>\n",
              "      <td>2003 jguru</td>\n",
              "      <td>3.100061</td>\n",
              "    </tr>\n",
              "    <tr>\n",
              "      <th>37</th>\n",
              "      <td>1996 2003</td>\n",
              "      <td>3.100061</td>\n",
              "    </tr>\n",
              "    <tr>\n",
              "      <th>493</th>\n",
              "      <td>com</td>\n",
              "      <td>3.100061</td>\n",
              "    </tr>\n",
              "    <tr>\n",
              "      <th>1852</th>\n",
              "      <td>reserved</td>\n",
              "      <td>3.100061</td>\n",
              "    </tr>\n",
              "    <tr>\n",
              "      <th>1883</th>\n",
              "      <td>rights reserved</td>\n",
              "      <td>3.100061</td>\n",
              "    </tr>\n",
              "    <tr>\n",
              "      <th>1882</th>\n",
              "      <td>rights</td>\n",
              "      <td>3.100061</td>\n",
              "    </tr>\n",
              "    <tr>\n",
              "      <th>1562</th>\n",
              "      <td>objects</td>\n",
              "      <td>3.187072</td>\n",
              "    </tr>\n",
              "    <tr>\n",
              "      <th>1484</th>\n",
              "      <td>new</td>\n",
              "      <td>3.187072</td>\n",
              "    </tr>\n",
              "    <tr>\n",
              "      <th>414</th>\n",
              "      <td>class</td>\n",
              "      <td>3.187072</td>\n",
              "    </tr>\n",
              "    <tr>\n",
              "      <th>1537</th>\n",
              "      <td>object</td>\n",
              "      <td>3.233592</td>\n",
              "    </tr>\n",
              "    <tr>\n",
              "      <th>125</th>\n",
              "      <td>applet</td>\n",
              "      <td>3.333676</td>\n",
              "    </tr>\n",
              "    <tr>\n",
              "      <th>838</th>\n",
              "      <td>example</td>\n",
              "      <td>3.333676</td>\n",
              "    </tr>\n",
              "    <tr>\n",
              "      <th>1121</th>\n",
              "      <td>int</td>\n",
              "      <td>3.444901</td>\n",
              "    </tr>\n",
              "    <tr>\n",
              "      <th>1401</th>\n",
              "      <td>memory</td>\n",
              "      <td>3.570064</td>\n",
              "    </tr>\n",
              "    <tr>\n",
              "      <th>1255</th>\n",
              "      <td>language</td>\n",
              "      <td>3.570064</td>\n",
              "    </tr>\n",
              "    <tr>\n",
              "      <th>2234</th>\n",
              "      <td>use</td>\n",
              "      <td>3.639057</td>\n",
              "    </tr>\n",
              "    <tr>\n",
              "      <th>208</th>\n",
              "      <td>array</td>\n",
              "      <td>3.639057</td>\n",
              "    </tr>\n",
              "    <tr>\n",
              "      <th>2060</th>\n",
              "      <td>string</td>\n",
              "      <td>3.639057</td>\n",
              "    </tr>\n",
              "    <tr>\n",
              "      <th>1761</th>\n",
              "      <td>program</td>\n",
              "      <td>3.713165</td>\n",
              "    </tr>\n",
              "    <tr>\n",
              "      <th>1213</th>\n",
              "      <td>java language</td>\n",
              "      <td>3.713165</td>\n",
              "    </tr>\n",
              "    <tr>\n",
              "      <th>1744</th>\n",
              "      <td>primitive</td>\n",
              "      <td>3.793208</td>\n",
              "    </tr>\n",
              "    <tr>\n",
              "      <th>...</th>\n",
              "      <td>...</td>\n",
              "      <td>...</td>\n",
              "    </tr>\n",
              "    <tr>\n",
              "      <th>874</th>\n",
              "      <td>execution java</td>\n",
              "      <td>5.584967</td>\n",
              "    </tr>\n",
              "    <tr>\n",
              "      <th>873</th>\n",
              "      <td>execution including</td>\n",
              "      <td>5.584967</td>\n",
              "    </tr>\n",
              "    <tr>\n",
              "      <th>872</th>\n",
              "      <td>execution applet</td>\n",
              "      <td>5.584967</td>\n",
              "    </tr>\n",
              "    <tr>\n",
              "      <th>870</th>\n",
              "      <td>executed platform</td>\n",
              "      <td>5.584967</td>\n",
              "    </tr>\n",
              "    <tr>\n",
              "      <th>869</th>\n",
              "      <td>executed notices</td>\n",
              "      <td>5.584967</td>\n",
              "    </tr>\n",
              "    <tr>\n",
              "      <th>868</th>\n",
              "      <td>executed new</td>\n",
              "      <td>5.584967</td>\n",
              "    </tr>\n",
              "    <tr>\n",
              "      <th>867</th>\n",
              "      <td>executed java</td>\n",
              "      <td>5.584967</td>\n",
              "    </tr>\n",
              "    <tr>\n",
              "      <th>866</th>\n",
              "      <td>executed applets</td>\n",
              "      <td>5.584967</td>\n",
              "    </tr>\n",
              "    <tr>\n",
              "      <th>864</th>\n",
              "      <td>execute applet</td>\n",
              "      <td>5.584967</td>\n",
              "    </tr>\n",
              "    <tr>\n",
              "      <th>863</th>\n",
              "      <td>execute</td>\n",
              "      <td>5.584967</td>\n",
              "    </tr>\n",
              "    <tr>\n",
              "      <th>862</th>\n",
              "      <td>exceptions java</td>\n",
              "      <td>5.584967</td>\n",
              "    </tr>\n",
              "    <tr>\n",
              "      <th>861</th>\n",
              "      <td>exceptions</td>\n",
              "      <td>5.584967</td>\n",
              "    </tr>\n",
              "    <tr>\n",
              "      <th>643</th>\n",
              "      <td>data ii</td>\n",
              "      <td>5.584967</td>\n",
              "    </tr>\n",
              "    <tr>\n",
              "      <th>859</th>\n",
              "      <td>exception called</td>\n",
              "      <td>5.584967</td>\n",
              "    </tr>\n",
              "    <tr>\n",
              "      <th>854</th>\n",
              "      <td>example void</td>\n",
              "      <td>5.584967</td>\n",
              "    </tr>\n",
              "    <tr>\n",
              "      <th>853</th>\n",
              "      <td>example tag</td>\n",
              "      <td>5.584967</td>\n",
              "    </tr>\n",
              "    <tr>\n",
              "      <th>852</th>\n",
              "      <td>example string</td>\n",
              "      <td>5.584967</td>\n",
              "    </tr>\n",
              "    <tr>\n",
              "      <th>851</th>\n",
              "      <td>example run</td>\n",
              "      <td>5.584967</td>\n",
              "    </tr>\n",
              "    <tr>\n",
              "      <th>850</th>\n",
              "      <td>example quitting</td>\n",
              "      <td>5.584967</td>\n",
              "    </tr>\n",
              "    <tr>\n",
              "      <th>849</th>\n",
              "      <td>example port</td>\n",
              "      <td>5.584967</td>\n",
              "    </tr>\n",
              "    <tr>\n",
              "      <th>848</th>\n",
              "      <td>example output</td>\n",
              "      <td>5.584967</td>\n",
              "    </tr>\n",
              "    <tr>\n",
              "      <th>847</th>\n",
              "      <td>example new</td>\n",
              "      <td>5.584967</td>\n",
              "    </tr>\n",
              "    <tr>\n",
              "      <th>846</th>\n",
              "      <td>example java</td>\n",
              "      <td>5.584967</td>\n",
              "    </tr>\n",
              "    <tr>\n",
              "      <th>844</th>\n",
              "      <td>example drawn</td>\n",
              "      <td>5.584967</td>\n",
              "    </tr>\n",
              "    <tr>\n",
              "      <th>843</th>\n",
              "      <td>example const</td>\n",
              "      <td>5.584967</td>\n",
              "    </tr>\n",
              "    <tr>\n",
              "      <th>842</th>\n",
              "      <td>example code</td>\n",
              "      <td>5.584967</td>\n",
              "    </tr>\n",
              "    <tr>\n",
              "      <th>840</th>\n",
              "      <td>example applet</td>\n",
              "      <td>5.584967</td>\n",
              "    </tr>\n",
              "    <tr>\n",
              "      <th>839</th>\n",
              "      <td>example 1996</td>\n",
              "      <td>5.584967</td>\n",
              "    </tr>\n",
              "    <tr>\n",
              "      <th>857</th>\n",
              "      <td>examples switch</td>\n",
              "      <td>5.584967</td>\n",
              "    </tr>\n",
              "    <tr>\n",
              "      <th>2352</th>\n",
              "      <td>zero extend</td>\n",
              "      <td>5.584967</td>\n",
              "    </tr>\n",
              "  </tbody>\n",
              "</table>\n",
              "<p>2353 rows × 2 columns</p>\n",
              "</div>"
            ],
            "text/plain": [
              "                    Words  Frequency(most commmon->least common)\n",
              "1195                 java                               1.934309\n",
              "263                basics                               2.722767\n",
              "1201          java basics                               2.722767\n",
              "454                  code                               2.982278\n",
              "1419               method                               3.059239\n",
              "1237                jguru                               3.100061\n",
              "36                   1996                               3.100061\n",
              "1238            jguru com                               3.100061\n",
              "45                   2003                               3.100061\n",
              "46             2003 jguru                               3.100061\n",
              "37              1996 2003                               3.100061\n",
              "493                   com                               3.100061\n",
              "1852             reserved                               3.100061\n",
              "1883      rights reserved                               3.100061\n",
              "1882               rights                               3.100061\n",
              "1562              objects                               3.187072\n",
              "1484                  new                               3.187072\n",
              "414                 class                               3.187072\n",
              "1537               object                               3.233592\n",
              "125                applet                               3.333676\n",
              "838               example                               3.333676\n",
              "1121                  int                               3.444901\n",
              "1401               memory                               3.570064\n",
              "1255             language                               3.570064\n",
              "2234                  use                               3.639057\n",
              "208                 array                               3.639057\n",
              "2060               string                               3.639057\n",
              "1761              program                               3.713165\n",
              "1213        java language                               3.713165\n",
              "1744            primitive                               3.793208\n",
              "...                   ...                                    ...\n",
              "874        execution java                               5.584967\n",
              "873   execution including                               5.584967\n",
              "872      execution applet                               5.584967\n",
              "870     executed platform                               5.584967\n",
              "869      executed notices                               5.584967\n",
              "868          executed new                               5.584967\n",
              "867         executed java                               5.584967\n",
              "866      executed applets                               5.584967\n",
              "864        execute applet                               5.584967\n",
              "863               execute                               5.584967\n",
              "862       exceptions java                               5.584967\n",
              "861            exceptions                               5.584967\n",
              "643               data ii                               5.584967\n",
              "859      exception called                               5.584967\n",
              "854          example void                               5.584967\n",
              "853           example tag                               5.584967\n",
              "852        example string                               5.584967\n",
              "851           example run                               5.584967\n",
              "850      example quitting                               5.584967\n",
              "849          example port                               5.584967\n",
              "848        example output                               5.584967\n",
              "847           example new                               5.584967\n",
              "846          example java                               5.584967\n",
              "844         example drawn                               5.584967\n",
              "843         example const                               5.584967\n",
              "842          example code                               5.584967\n",
              "840        example applet                               5.584967\n",
              "839          example 1996                               5.584967\n",
              "857       examples switch                               5.584967\n",
              "2352          zero extend                               5.584967\n",
              "\n",
              "[2353 rows x 2 columns]"
            ]
          },
          "metadata": {
            "tags": []
          },
          "execution_count": 185
        }
      ]
    },
    {
      "metadata": {
        "id": "cNYvdcfOVEXn",
        "colab_type": "code",
        "colab": {}
      },
      "cell_type": "code",
      "source": [
        "df.to_csv(\"final rankings_wordtokenzie.csv\",index=False)"
      ],
      "execution_count": 0,
      "outputs": []
    },
    {
      "metadata": {
        "id": "Ug6JMnSIDE-J",
        "colab_type": "code",
        "colab": {}
      },
      "cell_type": "code",
      "source": [
        "from google.colab import files\n",
        "files.download('final rankings_wordtokenzie.csv')"
      ],
      "execution_count": 0,
      "outputs": []
    },
    {
      "metadata": {
        "id": "S7w3om0qJBQw",
        "colab_type": "code",
        "colab": {}
      },
      "cell_type": "code",
      "source": [
        "# vectorizer = TfidfVectorizer(smooth_idf=False, norm=None)\n",
        "# response = vectorizer.fit_transform(final_str)\n",
        "# feature_names = vectorizer.get_feature_names()\n",
        "\n",
        "# for col in response.nonzero()[1]:\n",
        "#   print(feature_names[col], '-', response[0, col])\n"
      ],
      "execution_count": 0,
      "outputs": []
    },
    {
      "metadata": {
        "id": "EqWGx4FsmAwx",
        "colab_type": "code",
        "colab": {}
      },
      "cell_type": "code",
      "source": [
        "# [ re.sub('[^ a-zA-Z0-9]', ' ', x) for x in sent_tokenize_list]"
      ],
      "execution_count": 0,
      "outputs": []
    },
    {
      "metadata": {
        "id": "JecmnoVFmmNa",
        "colab_type": "code",
        "colab": {}
      },
      "cell_type": "code",
      "source": [
        "# [re.findall('\\d+|\\D+', x) for x in my_new_string]\n",
        "# [x for sublist in z for x in sublist]\n",
        "# [x for x in my_new_string if not x.isdigit()]"
      ],
      "execution_count": 0,
      "outputs": []
    },
    {
      "metadata": {
        "id": "ExULAiVE9IDh",
        "colab_type": "code",
        "colab": {}
      },
      "cell_type": "code",
      "source": [
        ""
      ],
      "execution_count": 0,
      "outputs": []
    }
  ]
}