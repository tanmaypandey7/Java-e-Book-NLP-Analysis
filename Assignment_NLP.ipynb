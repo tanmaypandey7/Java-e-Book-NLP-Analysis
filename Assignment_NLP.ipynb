{
  "nbformat": 4,
  "nbformat_minor": 0,
  "metadata": {
    "colab": {
      "name": "Assignment-NLP.ipynb",
      "version": "0.3.2",
      "provenance": [],
      "include_colab_link": true
    },
    "kernelspec": {
      "name": "python3",
      "display_name": "Python 3"
    }
  },
  "cells": [
    {
      "cell_type": "markdown",
      "metadata": {
        "id": "view-in-github",
        "colab_type": "text"
      },
      "source": [
        "[View in Colaboratory](https://colab.research.google.com/github/tanmaypandey7/NLP-Work-PDF/blob/master/Assignment_NLP.ipynb)"
      ]
    },
    {
      "metadata": {
        "id": "Mbedq4pypF_V",
        "colab_type": "code",
        "colab": {}
      },
      "cell_type": "code",
      "source": [
        "# Uncomment the lines to install the libraries\n",
        "# !pip install PyPDF2\n",
        "# !pip install textblob"
      ],
      "execution_count": 0,
      "outputs": []
    },
    {
      "metadata": {
        "id": "bjzS19dmpQDZ",
        "colab_type": "code",
        "colab": {}
      },
      "cell_type": "code",
      "source": [
        "import PyPDF2\n",
        "from nltk.corpus import stopwords\n",
        "from nltk.tokenize import word_tokenize\n",
        "import nltk\n",
        "import re"
      ],
      "execution_count": 0,
      "outputs": []
    },
    {
      "metadata": {
        "id": "wpq_DoZjpbFX",
        "colab_type": "code",
        "colab": {
          "base_uri": "https://localhost:8080/",
          "height": 89
        },
        "outputId": "8f4ca16d-1465-4889-8375-e9e13616355b"
      },
      "cell_type": "code",
      "source": [
        "#Upload the required pdf files\n",
        "from google.colab import files\n",
        "\n",
        "uploaded = files.upload()\n",
        "\n",
        "for fn in uploaded.keys():\n",
        "  print('User uploaded file \"{name}\" with length {length} bytes'.format(name=fn, length=len(uploaded[fn])))"
      ],
      "execution_count": 225,
      "outputs": [
        {
          "output_type": "display_data",
          "data": {
            "text/html": [
              "\n",
              "     <input type=\"file\" id=\"files-dfb48fef-632f-4580-aceb-a75ef5e56073\" name=\"files[]\" multiple disabled />\n",
              "     <output id=\"result-dfb48fef-632f-4580-aceb-a75ef5e56073\">\n",
              "      Upload widget is only available when the cell has been executed in the\n",
              "      current browser session. Please rerun this cell to enable.\n",
              "      </output>\n",
              "      <script src=\"/nbextensions/google.colab/files.js\"></script> "
            ],
            "text/plain": [
              "<IPython.core.display.HTML object>"
            ]
          },
          "metadata": {
            "tags": []
          }
        },
        {
          "output_type": "stream",
          "text": [
            "Saving JavaBasics-notes.pdf to JavaBasics-notes (3).pdf\n",
            "User uploaded file \"JavaBasics-notes.pdf\" with length 321459 bytes\n"
          ],
          "name": "stdout"
        }
      ]
    },
    {
      "metadata": {
        "id": "F-IjUSDNprQx",
        "colab_type": "code",
        "colab": {}
      },
      "cell_type": "code",
      "source": [
        "#Reading them now\n",
        "file = open('JavaBasics-notes.pdf', 'rb')\n",
        "fileReader = PyPDF2.PdfFileReader(file)"
      ],
      "execution_count": 0,
      "outputs": []
    },
    {
      "metadata": {
        "id": "m8rqnkwMwW5T",
        "colab_type": "code",
        "colab": {}
      },
      "cell_type": "code",
      "source": [
        "#Convert it to string\n",
        "num_pages=fileReader.numPages\n",
        "count=0\n",
        "text=' '\n",
        "\n",
        "while count<num_pages:\n",
        "    pageObj = fileReader.getPage(count)\n",
        "    count +=1\n",
        "    text += pageObj.extractText()"
      ],
      "execution_count": 0,
      "outputs": []
    },
    {
      "metadata": {
        "id": "ssbvj8Qzwpmc",
        "colab_type": "code",
        "colab": {
          "base_uri": "https://localhost:8080/",
          "height": 34
        },
        "outputId": "1c628369-1ff1-4bcf-db06-02f4a5527c2c"
      },
      "cell_type": "code",
      "source": [
        "#Now starting the preprocessing part,first converting to lower case.\n",
        "text=text.lower()\n",
        "print(text[:50])"
      ],
      "execution_count": 271,
      "outputs": [
        {
          "output_type": "stream",
          "text": [
            " java basics© 1996-2003 jguru.com. all rights rese\n"
          ],
          "name": "stdout"
        }
      ]
    },
    {
      "metadata": {
        "id": "9okObG4HEksb",
        "colab_type": "code",
        "colab": {
          "base_uri": "https://localhost:8080/",
          "height": 34
        },
        "outputId": "f2954b35-fde3-4459-9225-0d08a39d18a8"
      },
      "cell_type": "code",
      "source": [
        "#Removeing \n",
        "my_new_string = re.sub('[^ a-zA-Z0-9]', ' ', text)\n",
        "print(my_new_string[:50])"
      ],
      "execution_count": 272,
      "outputs": [
        {
          "output_type": "stream",
          "text": [
            " java basics  1996 2003 jguru com  all rights rese\n"
          ],
          "name": "stdout"
        }
      ]
    },
    {
      "metadata": {
        "id": "d6Knx-t2x58T",
        "colab_type": "code",
        "colab": {}
      },
      "cell_type": "code",
      "source": [
        "# Uncomment the following line to download the libraries.\n",
        "# nltk.download('all')"
      ],
      "execution_count": 0,
      "outputs": []
    },
    {
      "metadata": {
        "id": "LYLE0GCl2EZF",
        "colab_type": "code",
        "colab": {
          "base_uri": "https://localhost:8080/",
          "height": 34
        },
        "outputId": "9934cf1f-2802-4bb9-f236-03fac7ae20a3"
      },
      "cell_type": "code",
      "source": [
        "tokens=word_tokenize(my_new_string)\n",
        "sw=stopwords.words('english')\n",
        "len(tokens)"
      ],
      "execution_count": 232,
      "outputs": [
        {
          "output_type": "execute_result",
          "data": {
            "text/plain": [
              "3912"
            ]
          },
          "metadata": {
            "tags": []
          },
          "execution_count": 232
        }
      ]
    },
    {
      "metadata": {
        "id": "gHTTKLFR29jl",
        "colab_type": "code",
        "colab": {}
      },
      "cell_type": "code",
      "source": [
        "# keywords=[x for x in tokens if not x in sw ]\n",
        "# keywords[:15]\n",
        "keywords=tokens"
      ],
      "execution_count": 0,
      "outputs": []
    },
    {
      "metadata": {
        "id": "3zGCcqzC6tFn",
        "colab_type": "code",
        "colab": {
          "base_uri": "https://localhost:8080/",
          "height": 187
        },
        "outputId": "d5f64161-40c1-4dae-9eb5-e7878415c7dc"
      },
      "cell_type": "code",
      "source": [
        "tokens[:10]"
      ],
      "execution_count": 234,
      "outputs": [
        {
          "output_type": "execute_result",
          "data": {
            "text/plain": [
              "['java',\n",
              " 'basics',\n",
              " '1996',\n",
              " '2003',\n",
              " 'jguru',\n",
              " 'com',\n",
              " 'all',\n",
              " 'rights',\n",
              " 'reserved',\n",
              " 'java']"
            ]
          },
          "metadata": {
            "tags": []
          },
          "execution_count": 234
        }
      ]
    },
    {
      "metadata": {
        "id": "tfg8bEeR2waP",
        "colab_type": "code",
        "colab": {
          "base_uri": "https://localhost:8080/",
          "height": 187
        },
        "outputId": "bc77e8d2-d213-4091-d7a3-cec8e0c1fd71"
      },
      "cell_type": "code",
      "source": [
        "# def split(s):\n",
        "#   head = s.rstrip('0123456789')\n",
        "#   tail = s[len(head):]\n",
        "#   return head,tail\n",
        "r = re.compile(\"([a-zA-Z]+)([0-9]+)\")\n",
        "# m = r.match(tokens)\n",
        "# [split(s) for s in keywords ]\n",
        "# list(filter(None, initial) )\n",
        "z=[re.findall('\\d+|\\D+', x) for x in keywords]\n",
        "flat = [x for sublist in z for x in sublist]\n",
        "flat[:10]"
      ],
      "execution_count": 235,
      "outputs": [
        {
          "output_type": "execute_result",
          "data": {
            "text/plain": [
              "['java',\n",
              " 'basics',\n",
              " '1996',\n",
              " '2003',\n",
              " 'jguru',\n",
              " 'com',\n",
              " 'rights',\n",
              " 'reserved',\n",
              " 'java',\n",
              " 'basics']"
            ]
          },
          "metadata": {
            "tags": []
          },
          "execution_count": 235
        }
      ]
    },
    {
      "metadata": {
        "id": "OEhSVZukMdBE",
        "colab_type": "code",
        "colab": {
          "base_uri": "https://localhost:8080/",
          "height": 187
        },
        "outputId": "09be1466-fbcf-4a5a-ba52-a023503091dc"
      },
      "cell_type": "code",
      "source": [
        "final_str=[x for x in flat if not x.isdigit()]\n",
        "final_str[:10]"
      ],
      "execution_count": 249,
      "outputs": [
        {
          "output_type": "execute_result",
          "data": {
            "text/plain": [
              "['java',\n",
              " 'basics',\n",
              " 'jguru',\n",
              " 'com',\n",
              " 'rights',\n",
              " 'reserved',\n",
              " 'java',\n",
              " 'basics',\n",
              " 'java',\n",
              " 'basicstopics']"
            ]
          },
          "metadata": {
            "tags": []
          },
          "execution_count": 249
        }
      ]
    },
    {
      "metadata": {
        "id": "e4cmVFweXhKR",
        "colab_type": "code",
        "colab": {
          "base_uri": "https://localhost:8080/",
          "height": 204
        },
        "outputId": "522b2e11-17f5-4890-b6f5-87b92d86ddb9"
      },
      "cell_type": "code",
      "source": [
        "from sklearn.feature_extraction.text import TfidfVectorizer\n",
        "vectorizer = TfidfVectorizer(stop_words='english')\n",
        "tfidf_matrix = vectorizer.fit_transform(final_str)\n",
        "feature_names = vectorizer.get_feature_names()\n",
        "# dense = tfidf_matrix.toarray()\n",
        "# denselist = dense.tolist()\n",
        "# df = pd.DataFrame(denselist, columns=feature_names)\n",
        "idf =(vectorizer.idf_)\n",
        "dict_=dict(zip(feature_names, idf))\n",
        "df=pd.DataFrame(list(dict_.items()),columns=['Word','Tfidf-Frequency'])\n",
        "df.sort_values([\"Tfidf-Frequency\"],ascending=False,inplace=True)\n",
        "df.head()"
      ],
      "execution_count": 273,
      "outputs": [
        {
          "output_type": "execute_result",
          "data": {
            "text/html": [
              "<div>\n",
              "<style scoped>\n",
              "    .dataframe tbody tr th:only-of-type {\n",
              "        vertical-align: middle;\n",
              "    }\n",
              "\n",
              "    .dataframe tbody tr th {\n",
              "        vertical-align: top;\n",
              "    }\n",
              "\n",
              "    .dataframe thead th {\n",
              "        text-align: right;\n",
              "    }\n",
              "</style>\n",
              "<table border=\"1\" class=\"dataframe\">\n",
              "  <thead>\n",
              "    <tr style=\"text-align: right;\">\n",
              "      <th></th>\n",
              "      <th>Word</th>\n",
              "      <th>Tfidf-Frequency</th>\n",
              "    </tr>\n",
              "  </thead>\n",
              "  <tbody>\n",
              "    <tr>\n",
              "      <th>0</th>\n",
              "      <td>abc</td>\n",
              "      <td>8.125283</td>\n",
              "    </tr>\n",
              "    <tr>\n",
              "      <th>437</th>\n",
              "      <td>loader</td>\n",
              "      <td>8.125283</td>\n",
              "    </tr>\n",
              "    <tr>\n",
              "      <th>468</th>\n",
              "      <td>methodcauses</td>\n",
              "      <td>8.125283</td>\n",
              "    </tr>\n",
              "    <tr>\n",
              "      <th>470</th>\n",
              "      <td>methodshould</td>\n",
              "      <td>8.125283</td>\n",
              "    </tr>\n",
              "    <tr>\n",
              "      <th>471</th>\n",
              "      <td>methodsrobustnessthe</td>\n",
              "      <td>8.125283</td>\n",
              "    </tr>\n",
              "  </tbody>\n",
              "</table>\n",
              "</div>"
            ],
            "text/plain": [
              "                     Word  Tfidf-Frequency\n",
              "0                     abc         8.125283\n",
              "437                loader         8.125283\n",
              "468          methodcauses         8.125283\n",
              "470          methodshould         8.125283\n",
              "471  methodsrobustnessthe         8.125283"
            ]
          },
          "metadata": {
            "tags": []
          },
          "execution_count": 273
        }
      ]
    },
    {
      "metadata": {
        "id": "2vdlgvOXF4pJ",
        "colab_type": "code",
        "colab": {}
      },
      "cell_type": "code",
      "source": [
        "# df=pd.DataFrame.from_dict(dict_,orient='index',columns=['Word','Frequency'])\n",
        "# df\n",
        "#to use later after program get proper "
      ],
      "execution_count": 0,
      "outputs": []
    },
    {
      "metadata": {
        "id": "cNYvdcfOVEXn",
        "colab_type": "code",
        "colab": {}
      },
      "cell_type": "code",
      "source": [
        "df.to_csv(\"final rankings.csv\",index=False)"
      ],
      "execution_count": 0,
      "outputs": []
    },
    {
      "metadata": {
        "id": "Ug6JMnSIDE-J",
        "colab_type": "code",
        "colab": {}
      },
      "cell_type": "code",
      "source": [
        "from google.colab import files\n",
        "files.download('final rankings.csv')"
      ],
      "execution_count": 0,
      "outputs": []
    },
    {
      "metadata": {
        "id": "Ddm3oh0chPKa",
        "colab_type": "code",
        "colab": {}
      },
      "cell_type": "code",
      "source": [
        ""
      ],
      "execution_count": 0,
      "outputs": []
    }
  ]
}